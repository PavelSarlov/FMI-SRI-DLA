{
 "cells": [
  {
   "cell_type": "markdown",
   "id": "abcf59ce",
   "metadata": {},
   "source": [
    "## Търсене и извличане на информация. Приложение на дълбоко машинно обучение\n",
    "> ### Стоян Михов\n",
    "> #### Зимен семестър 2021/2022\n",
    "\n",
    "### Упражнение 9\n",
    "\n",
    " За да работи програмата трябва корпуса от публицистични текстове за Югоизточна Европа,\n",
    " да се намира разархивиран в директорията, в която е програмата (виж упражнение 2).\n",
    "\n",
    " Преди да се стартира програмата е необходимо да се активира съответното обкръжение с командата: `conda activate tii`\n",
    " \n",
    " Настоящата програма използва библиотеката sklearn.\n",
    " За да я инсталирате, след активиране на обкръжението трябва да изпълните командата: `conda install scikit-learn`"
   ]
  },
  {
   "cell_type": "code",
   "execution_count": null,
   "id": "801d045f",
   "metadata": {},
   "outputs": [],
   "source": [
    "import nltk\n",
    "from nltk.corpus import PlaintextCorpusReader\n",
    "import sys\n",
    "import random\n",
    "import math\n",
    "import pprint\n",
    "\n",
    "from mpl_toolkits.mplot3d import Axes3D\n",
    "import matplotlib.pyplot as plt\n",
    "\n",
    "import numpy as np\n",
    "from sklearn.decomposition import TruncatedSVD"
   ]
  },
  {
   "cell_type": "markdown",
   "id": "a24c9412",
   "metadata": {},
   "source": [
    "######  Визуализация на прогреса"
   ]
  },
  {
   "cell_type": "code",
   "execution_count": null,
   "id": "66de7771",
   "metadata": {},
   "outputs": [],
   "source": [
    "class progressBar:\n",
    "    def __init__(self ,barWidth = 50):\n",
    "        self.barWidth = barWidth\n",
    "        self.period = None\n",
    "    def start(self, count):\n",
    "        self.item=0\n",
    "        self.period = int(count / self.barWidth)\n",
    "        sys.stdout.write(\"[\"+(\" \" * self.barWidth)+\"]\")\n",
    "        sys.stdout.flush()\n",
    "        sys.stdout.write(\"\\b\" * (self.barWidth+1))\n",
    "    def tick(self):\n",
    "        if self.item>0 and self.item % self.period == 0:\n",
    "            sys.stdout.write(\"-\")\n",
    "            sys.stdout.flush()\n",
    "        self.item += 1\n",
    "    def stop(self):\n",
    "        sys.stdout.write(\"]\\n\")"
   ]
  },
  {
   "cell_type": "markdown",
   "id": "6fdbd0d2",
   "metadata": {},
   "source": [
    "######  Разбиване на корпус на тестов и тренинг"
   ]
  },
  {
   "cell_type": "code",
   "execution_count": null,
   "id": "92fef427",
   "metadata": {},
   "outputs": [],
   "source": [
    "def splitSentCorpus(fullSentCorpus, testFraction = 0.1):\n",
    "    random.seed(42)\n",
    "    random.shuffle(fullSentCorpus)\n",
    "    testCount = int(len(fullSentCorpus) * testFraction)\n",
    "    testSentCorpus = fullSentCorpus[:testCount]\n",
    "    trainSentCorpus = fullSentCorpus[testCount:]\n",
    "    return testSentCorpus, trainSentCorpus"
   ]
  },
  {
   "cell_type": "markdown",
   "id": "736d1ea2",
   "metadata": {},
   "source": [
    "#####   Влагане на думи в нискомерно гъсто векторно пространство от упражнение 6"
   ]
  },
  {
   "cell_type": "code",
   "execution_count": null,
   "id": "cd62bebe",
   "metadata": {},
   "outputs": [],
   "source": [
    "def extractDictionary(corpus, limit=20000):\n",
    "    pb = progressBar()\n",
    "    pb.start(len(corpus))\n",
    "    dictionary = {}\n",
    "    for doc in corpus:\n",
    "        pb.tick()\n",
    "        for w in doc:\n",
    "            if w not in dictionary: dictionary[w] = 0\n",
    "        dictionary[w] += 1\n",
    "    L = sorted([(w,dictionary[w]) for w in dictionary], key = lambda x: x[1] , reverse=True)\n",
    "    if limit > len(L): limit = len(L)\n",
    "    words = [ w for w,_ in L[:limit] ]\n",
    "    word2ind = { w:i for i,w in enumerate(words)}\n",
    "    pb.stop()\n",
    "    return words, word2ind"
   ]
  },
  {
   "cell_type": "code",
   "execution_count": null,
   "id": "ad7afa6c",
   "metadata": {},
   "outputs": [],
   "source": [
    "def co_occurrence_matrix(corpus, window_size=4, limit=20000):\n",
    "    words, word2ind = extractDictionary(corpus,limit=limit)\n",
    "    num_words = len(words)\n",
    "    X=np.zeros((num_words,num_words))\n",
    "    pb = progressBar()\n",
    "    pb.start(len(corpus))\n",
    "    for doc in corpus:\n",
    "        pb.tick()\n",
    "        for wi in range(len(doc)):\n",
    "            if doc[wi] not in word2ind: continue\n",
    "            i=word2ind[doc[wi]]\n",
    "            for k in range(1,window_size+1):\n",
    "                if wi-k>=0 and doc[wi-k] in word2ind:\n",
    "                    j=word2ind[doc[wi-k]]\n",
    "                    X[i,j] += 1\n",
    "                if wi+k<len(doc) and doc[wi+k] in word2ind:\n",
    "                    j=word2ind[doc[wi+k]]\n",
    "                    X[i,j] += 1\n",
    "    pb.stop()\n",
    "    return X, words, word2ind"
   ]
  },
  {
   "cell_type": "code",
   "execution_count": null,
   "id": "368a1fa9",
   "metadata": {},
   "outputs": [],
   "source": [
    "def PMI_matrix(C):\n",
    "    rowSums = np.sum(C,axis=1)\n",
    "    colSums = np.sum(C,axis=0)\n",
    "    D = np.sum(rowSums)\n",
    "    Z = np.outer(rowSums,colSums)\n",
    "    X = np.maximum(np.log( D * C / Z),0)\n",
    "    return X"
   ]
  },
  {
   "cell_type": "code",
   "execution_count": null,
   "id": "f9a43f2b",
   "metadata": {},
   "outputs": [],
   "source": [
    "def SVD_k_dim(X, k=100, n_iters = 10):\n",
    "    # Документация на метода има на https://scikit-learn.org/stable/modules/generated/sklearn.decomposition.TruncatedSVD.html\n",
    "    \n",
    "    print(\"Running Truncated SVD over %i words...\" % (X.shape[0]))\n",
    "    svd = TruncatedSVD(n_components=k, n_iter=n_iters)\n",
    "    svd.fit(X)\n",
    "    X_reduced = svd.transform(X)\n",
    "    print(\"Done.\")\n",
    "    return X_reduced"
   ]
  },
  {
   "cell_type": "markdown",
   "id": "2863c9db",
   "metadata": {},
   "source": [
    "######  Влагане на документи в нискомерно гъсто векторно пространство"
   ]
  },
  {
   "cell_type": "code",
   "execution_count": null,
   "id": "bd7878c9",
   "metadata": {},
   "outputs": [],
   "source": [
    "def docVector(document, Embedding, word2ind):\n",
    "    tf = np.zeros(len(word2ind))\n",
    "    for w in document:\n",
    "        if w in word2ind:\n",
    "            tf[word2ind[w]] += 1\n",
    "    d=np.dot(tf,Embedding)\n",
    "    return d / np.linalg.norm(d)"
   ]
  },
  {
   "cell_type": "code",
   "execution_count": null,
   "id": "14a48c8d",
   "metadata": {},
   "outputs": [],
   "source": [
    "def corpusEmbedding(corpus, Embedding, word2ind):\n",
    "    return np.stack([ docVector(doc, Embedding, word2ind) for doc in corpus ])"
   ]
  },
  {
   "cell_type": "markdown",
   "id": "bda08dc3",
   "metadata": {},
   "source": [
    "####    Логистична регресия -- Бинарен класификатор от упр. 8"
   ]
  },
  {
   "cell_type": "code",
   "execution_count": null,
   "id": "f9f6662d",
   "metadata": {},
   "outputs": [],
   "source": [
    "def sigmoid(x):\n",
    "    return 1/(1+np.exp(-x))"
   ]
  },
  {
   "cell_type": "code",
   "execution_count": null,
   "id": "09b02f0b",
   "metadata": {},
   "outputs": [],
   "source": [
    "def crossEntropyS(X, Y, w, b):\n",
    "    m = X.shape[0]\n",
    "    s = sigmoid(np.dot(X,w)+b)\n",
    "    pr = (1-Y) + (2*Y-1)*s\n",
    "    ce = -np.mean(np.log(pr))\n",
    "    return ce"
   ]
  },
  {
   "cell_type": "code",
   "execution_count": null,
   "id": "fa317f20",
   "metadata": {},
   "outputs": [],
   "source": [
    "def gradCrossEntropyS(X,Y,w,b):\n",
    "    m = X.shape[0]\n",
    "    g = Y - sigmoid(np.dot(X,w)+b)\n",
    "    db = -np.mean(g)\n",
    "    dw = -np.mean( g[:,np.newaxis] * X,axis=0)\n",
    "    return dw, db"
   ]
  },
  {
   "cell_type": "markdown",
   "id": "f99ee48d",
   "metadata": {},
   "source": [
    "####    спускане по градиента от упр. 8"
   ]
  },
  {
   "cell_type": "code",
   "execution_count": null,
   "id": "4e558bba",
   "metadata": {},
   "outputs": [],
   "source": [
    "def gradientDescend(X,Y,tX,tY,w0,b0,crossEntropy,gradCrossEntropy,alpha=1.):\n",
    "    epoch=0\n",
    "    w=w0\n",
    "    b=b0\n",
    "    ceList = []\n",
    "    tceList = []\n",
    "    while epoch<100000:\n",
    "        if epoch % 1000 == 0:\n",
    "            ce = crossEntropy(X, Y, w, b)\n",
    "            tce = crossEntropy(tX, tY, w, b)\n",
    "            print(epoch,ce,tce)\n",
    "            ceList.append(ce)\n",
    "            tceList.append(tce)\n",
    "        epoch += 1\n",
    "        dw, db = gradCrossEntropy(X,Y,w,b)\n",
    "        b -= alpha * db\n",
    "        w -= alpha * dw\n",
    "    return w,b,ceList,tceList"
   ]
  },
  {
   "cell_type": "markdown",
   "id": "352f694b",
   "metadata": {},
   "source": [
    "######   Зареждане на корпуса"
   ]
  },
  {
   "cell_type": "code",
   "execution_count": null,
   "id": "fdd5062e",
   "metadata": {},
   "outputs": [],
   "source": [
    "corpus_root = 'JOURNALISM.BG/C-MassMedia'\n",
    "myCorpus = PlaintextCorpusReader(corpus_root, '.*\\.txt')\n",
    "startToken = '<START>'\n",
    "endToken = '<END>'\n",
    "fileNames = myCorpus.fileids()\n",
    "\n",
    "ecoCorpus = [ [startToken] + [w.lower() for w in myCorpus.words(f)] + [endToken] for f in fileNames if f.find('E-Economy'+'/')==0 ]\n",
    "milCorpus = [ [startToken] + [w.lower() for w in myCorpus.words(f)] + [endToken] for f in fileNames if f.find('S-Military'+'/')==0 ]\n",
    "polCorpus = [ [startToken] + [w.lower() for w in myCorpus.words(f)] + [endToken] for f in fileNames if f.find('J-Politics'+'/')==0 ]\n",
    "culCorpus = [ [startToken] + [w.lower() for w in myCorpus.words(f)] + [endToken] for f in fileNames if f.find('C-Culture'+'/')==0 ]\n",
    "socCorpus = [ [startToken] + [w.lower() for w in myCorpus.words(f)] + [endToken] for f in fileNames if f.find('D-Society'+'/')==0 ]\n",
    "zCorpus = [ [startToken] + [w.lower() for w in myCorpus.words(f)] + [endToken] for f in fileNames if f.find('Z'+'/')==0 ]\n",
    "\n",
    "testEcoCorpus, trainEcoCorpus = splitSentCorpus(ecoCorpus)\n",
    "testMilCorpus, trainMilCorpus = splitSentCorpus(milCorpus)"
   ]
  },
  {
   "cell_type": "markdown",
   "id": "c2126be1",
   "metadata": {},
   "source": [
    "######  Влагане на думите"
   ]
  },
  {
   "cell_type": "code",
   "execution_count": null,
   "id": "df4431a0",
   "metadata": {},
   "outputs": [],
   "source": [
    "C, words, word2ind = co_occurrence_matrix(ecoCorpus+milCorpus+polCorpus+culCorpus+socCorpus+zCorpus)\n",
    "X = PMI_matrix(C)\n",
    "X_reduced = SVD_k_dim(X)\n",
    "\n",
    "X_lengths_100d = np.linalg.norm(X_reduced, axis=1)\n",
    "X_normalized_100d = X_reduced / X_lengths_100d[:, np.newaxis]"
   ]
  },
  {
   "cell_type": "markdown",
   "id": "1d790db0",
   "metadata": {},
   "source": [
    "###### Тестово и тренировъчно множество"
   ]
  },
  {
   "cell_type": "code",
   "execution_count": null,
   "id": "172ecb98",
   "metadata": {},
   "outputs": [],
   "source": [
    "trainX = np.concatenate((\n",
    "                         corpusEmbedding(trainEcoCorpus,X_normalized_100d,word2ind),\n",
    "                         corpusEmbedding(trainMilCorpus,X_normalized_100d,word2ind)\n",
    "                         ))\n",
    "trainY = np.concatenate((\n",
    "                         np.ones(len(trainEcoCorpus),dtype='int32')*0,\n",
    "                         np.ones(len(trainMilCorpus),dtype='int32')*1\n",
    "                         ))\n",
    "testX = np.concatenate((\n",
    "                        corpusEmbedding(testEcoCorpus,X_normalized_100d,word2ind),\n",
    "                        corpusEmbedding(testMilCorpus,X_normalized_100d,word2ind)\n",
    "                        ))\n",
    "testY = np.concatenate((\n",
    "                        np.ones(len(testEcoCorpus),dtype='int32')*0,\n",
    "                        np.ones(len(testMilCorpus),dtype='int32')*1\n",
    "                        ))"
   ]
  },
  {
   "cell_type": "markdown",
   "id": "1bfcb2a8",
   "metadata": {},
   "source": [
    "###### Инициализация на параметрите"
   ]
  },
  {
   "cell_type": "code",
   "execution_count": null,
   "id": "585de078",
   "metadata": {},
   "outputs": [],
   "source": [
    "w0 = np.random.normal(0.,1.,100)\n",
    "b0 = np.random.normal(0., 1., 1)"
   ]
  },
  {
   "cell_type": "code",
   "execution_count": null,
   "id": "c3ead8bb",
   "metadata": {},
   "outputs": [],
   "source": [
    "w,b,ceList,tceList = gradientDescend(trainX,trainY,testX,testY,np.copy(w0),np.copy(b0),crossEntropyS,gradCrossEntropyS,alpha=1.)"
   ]
  },
  {
   "cell_type": "code",
   "execution_count": null,
   "id": "d8e1b150",
   "metadata": {},
   "outputs": [],
   "source": [
    "%matplotlib widget"
   ]
  },
  {
   "cell_type": "code",
   "execution_count": null,
   "id": "f7c46805",
   "metadata": {},
   "outputs": [],
   "source": [
    "plt.plot([*range(len(ceList))],ceList)\n",
    "plt.plot([*range(len(tceList))],tceList)\n",
    "plt.show()"
   ]
  },
  {
   "cell_type": "markdown",
   "id": "4ceca19d",
   "metadata": {},
   "source": [
    "### Обектна имплементация на Backpropagation с Numpy операции\n",
    "> #### Първи вариант"
   ]
  },
  {
   "cell_type": "markdown",
   "id": "dacc134a",
   "metadata": {},
   "source": [
    "#### Базов обект за връх в изчислителния граф -- първи вариант\n",
    "    "
   ]
  },
  {
   "cell_type": "code",
   "execution_count": null,
   "id": "b8e8766d",
   "metadata": {},
   "outputs": [],
   "source": [
    "class compNode:\n",
    "    def __init__(self, predecessors, trainable = True):\n",
    "        self.predecessors = predecessors\n",
    "        self.value = 0\n",
    "        self.trainable = trainable\n",
    "        self.grad = 0\n",
    "\n",
    "    def getValue(self):\n",
    "        return self.value\n",
    "\n",
    "    def setValue(self,value):\n",
    "        self.value = value\n",
    "        self.grad = 0\n",
    "\n",
    "    def calcValue(self): ## трябва да се дефинира за конкретния връх като се извика setValue\n",
    "        return\n",
    "\n",
    "    def propagateGrad(self, grad):\n",
    "        self.grad += grad\n",
    "\n",
    "    def derivative(self,i): ## трябва да се дефинира за конкретния връх\n",
    "        return\n",
    "    \n",
    "    def propagateBack(self):\n",
    "        if not self.predecessors: return\n",
    "        for i,p in enumerate(self.predecessors):\n",
    "            if p.trainable:\n",
    "                partialGrad = np.dot(self.grad,self.derivative(i))\n",
    "                p.propagateGrad(partialGrad)"
   ]
  },
  {
   "cell_type": "markdown",
   "id": "c88df502",
   "metadata": {},
   "source": [
    "#### Конкретни инстанции на обекти за върхове в изчислителния граф -- първи вариант\n"
   ]
  },
  {
   "cell_type": "code",
   "execution_count": null,
   "id": "55080820",
   "metadata": {},
   "outputs": [],
   "source": [
    "np.diag([12,1,2,3])"
   ]
  },
  {
   "cell_type": "code",
   "execution_count": null,
   "id": "afb63e4f",
   "metadata": {},
   "outputs": [],
   "source": [
    "class logNode(compNode):\n",
    "    def calcValue(self):\n",
    "        x = self.predecessors[0].getValue()\n",
    "        self.setValue(np.log(x))\n",
    "    def derivative(self,i):\n",
    "        x = self.predecessors[0].getValue()\n",
    "        return np.diag(1/x)"
   ]
  },
  {
   "cell_type": "code",
   "execution_count": null,
   "id": "6587bea4",
   "metadata": {},
   "outputs": [],
   "source": [
    "class sigmoidNode(compNode):\n",
    "    def calcValue(self):\n",
    "        x = self.predecessors[0].getValue()\n",
    "        self.setValue(sigmoid(x))\n",
    "    def derivative(self,i):\n",
    "        argument = self.predecessors[0].getValue()\n",
    "        s = sigmoid(argument)\n",
    "        return np.diag(s*(1-s))"
   ]
  },
  {
   "cell_type": "code",
   "execution_count": null,
   "id": "abdd0e93",
   "metadata": {},
   "outputs": [],
   "source": [
    "class minusMeanNode(compNode):\n",
    "    def calcValue(self):\n",
    "        x = self.predecessors[0].getValue()\n",
    "        self.setValue(-np.mean(x))\n",
    "    def derivative(self,i):\n",
    "        x = self.predecessors[0].getValue()\n",
    "        S=x.shape[0]\n",
    "        return -1/S * np.ones(S)"
   ]
  },
  {
   "cell_type": "code",
   "execution_count": null,
   "id": "5c438b84",
   "metadata": {},
   "outputs": [],
   "source": [
    "class probNode(compNode):\n",
    "    def calcValue(self):\n",
    "        v = self.predecessors[0].getValue()\n",
    "        y = self.predecessors[1].getValue()\n",
    "        self.setValue((1-y) + (2*y-1)*v)\n",
    "    def derivative(self,i):\n",
    "        assert i==0\n",
    "        y = self.predecessors[1].getValue()\n",
    "        return np.diag(2*y-1)"
   ]
  },
  {
   "cell_type": "code",
   "execution_count": null,
   "id": "df744ef8",
   "metadata": {},
   "outputs": [],
   "source": [
    "class plusNode(compNode):\n",
    "    def calcValue(self):\n",
    "        x = self.predecessors[0].getValue()\n",
    "        y = self.predecessors[1].getValue()\n",
    "        self.setValue(x+y)\n",
    "    def derivative(self,i):\n",
    "        S = self.value.shape[0]\n",
    "        return np.eye(S)"
   ]
  },
  {
   "cell_type": "code",
   "execution_count": null,
   "id": "dc407b88",
   "metadata": {},
   "outputs": [],
   "source": [
    "class mulNode(compNode):\n",
    "    def calcValue(self):\n",
    "        x = self.predecessors[0].getValue()\n",
    "        y = self.predecessors[1].getValue()\n",
    "        self.setValue(np.dot(x,y))\n",
    "    def derivative(self,i):\n",
    "        j = 1 - i\n",
    "        u = self.predecessors[j].getValue()\n",
    "        return u"
   ]
  },
  {
   "cell_type": "code",
   "execution_count": null,
   "id": "1132bdfe",
   "metadata": {},
   "outputs": [],
   "source": [
    "class copyNode(compNode):\n",
    "    def calcValue(self):\n",
    "        self.setValue(self.predecessors[0].getValue())\n",
    "    def derivative(self,i):\n",
    "        S = self.grad.shape\n",
    "        return np.ones(S)"
   ]
  },
  {
   "cell_type": "code",
   "execution_count": null,
   "id": "b2cd24e4",
   "metadata": {},
   "outputs": [],
   "source": [
    "class constNode(compNode):\n",
    "    def calcValue(self):\n",
    "        self.setValue(self.value)"
   ]
  },
  {
   "cell_type": "markdown",
   "id": "4f12baf6",
   "metadata": {},
   "source": [
    "#### Създаване на изчислителен граф за логистичната регресия -- първи вариант\n"
   ]
  },
  {
   "cell_type": "code",
   "execution_count": null,
   "id": "f8be1c79",
   "metadata": {},
   "outputs": [],
   "source": [
    "x = constNode(None,trainable=False)\n",
    "y = constNode(None,trainable=False)\n",
    "w = constNode(None)\n",
    "b = constNode(None)\n",
    "u = mulNode([x,w])\n",
    "bS = copyNode([b])\n",
    "t = plusNode([u,bS])\n",
    "v = sigmoidNode([t])\n",
    "p = probNode([v,y])\n",
    "l = logNode([p])\n",
    "h = minusMeanNode([l])"
   ]
  },
  {
   "cell_type": "markdown",
   "id": "9ad0a83d",
   "metadata": {},
   "source": [
    "#### Топологично сортиране на върховете на изчислителен граф"
   ]
  },
  {
   "cell_type": "code",
   "execution_count": null,
   "id": "6affe9cb",
   "metadata": {},
   "outputs": [],
   "source": [
    "def getSortedNodes(t,L):\n",
    "    if t in L: return L\n",
    "    if t.predecessors:\n",
    "        for p in t.predecessors:\n",
    "            L = getSortedNodes(p,L)\n",
    "    L.append(t)\n",
    "    return L"
   ]
  },
  {
   "cell_type": "markdown",
   "id": "4add8eb2",
   "metadata": {},
   "source": [
    "### Базов обект за модел на невронна мрежа\n",
    ">#### Съдържа имплементация на Backpropagation и стохастично спускане по градиента"
   ]
  },
  {
   "cell_type": "code",
   "execution_count": null,
   "id": "eb467b4a",
   "metadata": {},
   "outputs": [],
   "source": [
    "class model:\n",
    "    def __init__(self, topNode, paramNodes, dataNodes):\n",
    "        self.topNode = topNode\n",
    "        self.paramNodes = paramNodes\n",
    "        self.dataNodes = dataNodes\n",
    "        self.sortedNodes = getSortedNodes(topNode,[])\n",
    "\n",
    "    def setParameters(self, params):\n",
    "        for i, p in enumerate(params):\n",
    "            self.paramNodes[i].value = p\n",
    "\n",
    "    def setData(self, data):\n",
    "        for i, d in enumerate(data):\n",
    "            self.dataNodes[i].value = d\n",
    "    \n",
    "    def forward(self):\n",
    "        for n in self.sortedNodes:\n",
    "            n.calcValue()\n",
    "\n",
    "    def backwards(self):\n",
    "        self.topNode.propagateGrad(1)\n",
    "        for n in reversed(self.sortedNodes):\n",
    "            n.propagateBack()\n",
    "\n",
    "    def updateModel(self,alpha):\n",
    "        for p in self.paramNodes:\n",
    "            p.value -= alpha * p.grad\n",
    "\n",
    "    def calcLoss(self,testData):\n",
    "        self.setData(testData)\n",
    "        self.forward()\n",
    "        return self.topNode.value\n",
    "\n",
    "    def batchedStochasticGradient(self, initialParams, trainData, testData, batchSize, alpha = 1., maxEpoch = 100000, printInterval = 1000):\n",
    "        self.setParameters(initialParams)\n",
    "        ceList = []\n",
    "        tceList = []\n",
    "        epoch = 0\n",
    "        samples = np.arange(trainData[0].shape[0], dtype='int32')\n",
    "        while epoch<maxEpoch:\n",
    "            if epoch % printInterval == 0:\n",
    "                tce = self.calcLoss(testData)\n",
    "                ce = self.calcLoss(trainData)\n",
    "                print(epoch, ce, tce)\n",
    "                ceList.append(ce)\n",
    "                tceList.append(tce)\n",
    "            np.random.shuffle(samples)\n",
    "            for i in range(0,len(samples),batchSize):\n",
    "                idx = samples[i:min(i+batchSize, len(samples))]\n",
    "                batchData = [d[idx] for d in trainData ]\n",
    "                self.setData(batchData)\n",
    "                self.forward()\n",
    "                self.backwards()\n",
    "                self.updateModel(alpha)\n",
    "            epoch += 1\n",
    "        return ceList, tceList"
   ]
  },
  {
   "cell_type": "markdown",
   "id": "40acfb82",
   "metadata": {},
   "source": [
    "#### Създаване на конкретен модел за логистичната регресия"
   ]
  },
  {
   "cell_type": "code",
   "execution_count": null,
   "id": "b70c7331",
   "metadata": {},
   "outputs": [],
   "source": [
    "logistic = model(h,[w,b],[x,y])"
   ]
  },
  {
   "cell_type": "markdown",
   "id": "dc84476b",
   "metadata": {},
   "source": [
    "#### Трениране на модела с пълно спускане по градиента -- бавно!"
   ]
  },
  {
   "cell_type": "code",
   "execution_count": null,
   "id": "86639948",
   "metadata": {},
   "outputs": [],
   "source": [
    "logistic.batchedStochasticGradient([np.copy(w0),np.copy(b0)], [trainX,trainY], [testX,testY], trainX.shape[0], maxEpoch = 2001, printInterval = 1000)"
   ]
  },
  {
   "cell_type": "markdown",
   "id": "b95fb9dc",
   "metadata": {},
   "source": [
    "### Обектна имплементация на Backpropagation с Numpy операции\n",
    "> #### Втори подобрен вариант"
   ]
  },
  {
   "cell_type": "code",
   "execution_count": null,
   "id": "74eb1352",
   "metadata": {},
   "outputs": [],
   "source": [
    "class compNode:\n",
    "    def __init__(self, predecessors, trainable = True):\n",
    "        self.predecessors = predecessors\n",
    "        self.value = 0\n",
    "        self.trainable = trainable\n",
    "        self.grad = 0\n",
    "    \n",
    "    def getValue(self):\n",
    "        return self.value\n",
    "    \n",
    "    def setValue(self,value):\n",
    "        self.value = value\n",
    "        self.grad = 0\n",
    "    \n",
    "    def calcValue(self): ## трябва да се дефинира за конкретния връх като се извика setValue\n",
    "        return\n",
    "    \n",
    "    def propagateGrad(self, grad):\n",
    "            self.grad += grad\n",
    "\n",
    "    def derivativeMult(self,i): ## трябва да се дефинира за конкретния връх\n",
    "        return\n",
    "    \n",
    "    def propagateBack(self):\n",
    "        if not self.predecessors: return\n",
    "        for i,p in enumerate(self.predecessors):\n",
    "            if p.trainable:\n",
    "                partialGrad = self.derivativeMult(i)\n",
    "                p.propagateGrad(partialGrad)"
   ]
  },
  {
   "cell_type": "markdown",
   "id": "568bd19d",
   "metadata": {},
   "source": [
    "#### Конкретни инстанции на обекти за върхове в изчислителния граф -- втори вариант"
   ]
  },
  {
   "cell_type": "markdown",
   "id": "dc1a0420",
   "metadata": {},
   "source": [
    "#### Тук дефинираме нов, обединяващ връх за кросентропия"
   ]
  },
  {
   "cell_type": "code",
   "execution_count": null,
   "id": "092d0acb",
   "metadata": {},
   "outputs": [],
   "source": [
    "class crossEntropyNode(compNode):\n",
    "    def calcValue(self):\n",
    "        t = self.predecessors[0].getValue()\n",
    "        y = self.predecessors[1].getValue()\n",
    "        self.v = sigmoid(t)\n",
    "        p = (1-y) + (2*y-1) * self.v\n",
    "        self.setValue(-np.mean(np.log(p)))\n",
    "    def derivativeMult(self,i):\n",
    "        y = self.predecessors[1].getValue()\n",
    "        S = y.shape[0]\n",
    "        return self.grad * (-(y-self.v)/S)"
   ]
  },
  {
   "cell_type": "code",
   "execution_count": null,
   "id": "b6001236",
   "metadata": {},
   "outputs": [],
   "source": [
    "class plusNode(compNode):\n",
    "    def calcValue(self):\n",
    "        x = self.predecessors[0].getValue()\n",
    "        y = self.predecessors[1].getValue()\n",
    "        self.setValue(x+y)\n",
    "    def derivativeMult(self,i):\n",
    "        return self.grad"
   ]
  },
  {
   "cell_type": "code",
   "execution_count": null,
   "id": "f98f5ce8",
   "metadata": {},
   "outputs": [],
   "source": [
    "class mulNode(compNode):\n",
    "    def calcValue(self):\n",
    "        x = self.predecessors[0].getValue()\n",
    "        y = self.predecessors[1].getValue()\n",
    "        self.setValue(np.dot(x,y))\n",
    "    def derivativeMult(self,i):\n",
    "        j = 1 - i\n",
    "        u = self.predecessors[j].getValue()\n",
    "        return np.dot(self.grad,u)"
   ]
  },
  {
   "cell_type": "code",
   "execution_count": null,
   "id": "43017e41",
   "metadata": {},
   "outputs": [],
   "source": [
    "class copyNode(compNode):\n",
    "    def calcValue(self):\n",
    "        self.setValue(self.predecessors[0].getValue())\n",
    "    def derivativeMult(self,i):\n",
    "        return np.sum(self.grad)"
   ]
  },
  {
   "cell_type": "code",
   "execution_count": null,
   "id": "12ce36c6",
   "metadata": {},
   "outputs": [],
   "source": [
    "class constNode(compNode):\n",
    "    def calcValue(self):\n",
    "        self.setValue(self.value)"
   ]
  },
  {
   "cell_type": "markdown",
   "id": "0d022790",
   "metadata": {},
   "source": [
    "#### Създаване на изчислителен граф и модел за логистичната регресия -- втори вариант"
   ]
  },
  {
   "cell_type": "code",
   "execution_count": null,
   "id": "21f427ab",
   "metadata": {},
   "outputs": [],
   "source": [
    "x = constNode(None,trainable=False)\n",
    "y = constNode(None,trainable=False)\n",
    "w = constNode(None)\n",
    "b = constNode(None)\n",
    "u = mulNode([x,w])\n",
    "bS = copyNode([b])\n",
    "t = plusNode([u,bS])\n",
    "h = crossEntropyNode([t,y])"
   ]
  },
  {
   "cell_type": "code",
   "execution_count": null,
   "id": "ce80f789",
   "metadata": {},
   "outputs": [],
   "source": [
    "logistic = model(h,[w,b],[x,y])"
   ]
  },
  {
   "cell_type": "markdown",
   "id": "3c22ee22",
   "metadata": {},
   "source": [
    "#### Трениране на модела с пълно спускане и партидно стохастично спускане"
   ]
  },
  {
   "cell_type": "code",
   "execution_count": null,
   "id": "941fbd1e",
   "metadata": {},
   "outputs": [],
   "source": [
    "cefList, tcefList = logistic.batchedStochasticGradient([np.copy(w0),np.copy(b0)], [trainX,trainY], [testX,testY], trainX.shape[0], maxEpoch = 100000, printInterval = 1000)"
   ]
  },
  {
   "cell_type": "code",
   "execution_count": null,
   "id": "93806584",
   "metadata": {},
   "outputs": [],
   "source": [
    "cebList, tcebList = logistic.batchedStochasticGradient([np.copy(w0),np.copy(b0)], [trainX,trainY], [testX,testY], 100, maxEpoch = 20000, printInterval = 1000)"
   ]
  },
  {
   "cell_type": "markdown",
   "id": "163b18fe",
   "metadata": {},
   "source": [
    "#### Визуализация"
   ]
  },
  {
   "cell_type": "code",
   "execution_count": null,
   "id": "5f8a0e53",
   "metadata": {},
   "outputs": [],
   "source": [
    "%matplotlib widget"
   ]
  },
  {
   "cell_type": "code",
   "execution_count": null,
   "id": "bdada0f3",
   "metadata": {},
   "outputs": [],
   "source": [
    "plt.plot([*range(len(cefList))],cefList)\n",
    "plt.plot([*range(len(tcefList))],tcefList)\n",
    "plt.plot([*range(len(cebList))],cebList)\n",
    "plt.plot([*range(len(tcebList))],tcebList)\n",
    "plt.legend(['Full gradient train','Full gradient test','Stochastic gradient train','Stochastic gradient test'])\n",
    "plt.show()"
   ]
  },
  {
   "cell_type": "markdown",
   "id": "d6c2c298",
   "metadata": {},
   "source": [
    "#### Трениране на модела със стандартно стохастично спускане"
   ]
  },
  {
   "cell_type": "code",
   "execution_count": null,
   "id": "3fe793fe",
   "metadata": {},
   "outputs": [],
   "source": [
    "cesList, tcesList = logistic.batchedStochasticGradient([np.copy(w0),np.copy(b0)], [trainX,trainY], [testX,testY], 1, maxEpoch = 200, printInterval = 10)"
   ]
  },
  {
   "cell_type": "code",
   "execution_count": null,
   "id": "ee7f4498",
   "metadata": {},
   "outputs": [],
   "source": [
    "%matplotlib widget"
   ]
  },
  {
   "cell_type": "code",
   "execution_count": null,
   "id": "6a694375",
   "metadata": {},
   "outputs": [],
   "source": [
    "plt.plot([*range(len(cebList))],cebList)\n",
    "plt.plot([*range(len(tcebList))],tcebList)\n",
    "plt.plot([*range(len(cesList))],cesList)\n",
    "plt.plot([*range(len(tcesList))],tcesList)\n",
    "plt.legend(['Batched Stochastic gradient train','Batched Stochastic gradient test','Standard Stochastic gradient train','Standard Stochastic gradient test'])\n",
    "plt.show()"
   ]
  },
  {
   "cell_type": "code",
   "execution_count": null,
   "id": "b60f21c6",
   "metadata": {},
   "outputs": [],
   "source": []
  }
 ],
 "metadata": {
  "kernelspec": {
   "display_name": "Python 3 (ipykernel)",
   "language": "python",
   "name": "python3"
  },
  "language_info": {
   "codemirror_mode": {
    "name": "ipython",
    "version": 3
   },
   "file_extension": ".py",
   "mimetype": "text/x-python",
   "name": "python",
   "nbconvert_exporter": "python",
   "pygments_lexer": "ipython3",
   "version": "3.7.11"
  }
 },
 "nbformat": 4,
 "nbformat_minor": 5
}
