{
 "cells": [
  {
   "cell_type": "markdown",
   "id": "abcf59ce",
   "metadata": {},
   "source": [
    "## Търсене и извличане на информация. Приложение на дълбоко машинно обучение\n",
    "> ### Стоян Михов\n",
    "> #### Зимен семестър 2021/2022\n",
    "\n",
    "### Упражнение 6\n",
    "\n",
    " За да работи програмата трябва корпуса от публицистични текстове за Югоизточна Европа,\n",
    " да се намира разархивиран в директорията, в която е програмата (виж упражнение 2).\n",
    "\n",
    " Преди да се стартира програмата е необходимо да се активира съответното обкръжение с командата: `conda activate tii`\n",
    " \n",
    " Настоящата програма използва библиотеката sklearn.\n",
    " За да я инсталирате, след активиране на обкръжението трябва да изпълните командата: `conda install scikit-learn`"
   ]
  },
  {
   "cell_type": "code",
   "execution_count": 1,
   "id": "0146a2f4",
   "metadata": {},
   "outputs": [],
   "source": [
    "import nltk\n",
    "from nltk.corpus import PlaintextCorpusReader\n",
    "import sys\n",
    "import random\n",
    "import math\n",
    "import pprint\n",
    "\n",
    "from mpl_toolkits.mplot3d import Axes3D\n",
    "import matplotlib.pyplot as plt\n",
    "\n",
    "import numpy as np\n",
    "from sklearn.decomposition import IncrementalPCA\n",
    "from sklearn.decomposition import TruncatedSVD\n",
    "\n",
    "class progressBar:\n",
    "    def __init__(self ,barWidth = 50):\n",
    "        self.barWidth = barWidth\n",
    "        self.period = None\n",
    "    def start(self, count):\n",
    "        self.item=0\n",
    "        self.period = int(count / self.barWidth)\n",
    "        sys.stdout.write(\"[\"+(\" \" * self.barWidth)+\"]\")\n",
    "        sys.stdout.flush()\n",
    "        sys.stdout.write(\"\\b\" * (self.barWidth+1))\n",
    "    def tick(self):\n",
    "        if self.item>0 and self.item % self.period == 0:\n",
    "            sys.stdout.write(\"-\")\n",
    "            sys.stdout.flush()\n",
    "        self.item += 1\n",
    "    def stop(self):\n",
    "        sys.stdout.write(\"]\\n\")"
   ]
  },
  {
   "cell_type": "code",
   "execution_count": 2,
   "id": "85ca98a3",
   "metadata": {},
   "outputs": [],
   "source": [
    "def extractDictionary(corpus, limit=20000):\n",
    "    pb = progressBar()\n",
    "    pb.start(len(corpus))\n",
    "    dictionary = {}\n",
    "    for doc in corpus:\n",
    "        pb.tick()\n",
    "        for w in doc:\n",
    "            if w not in dictionary: dictionary[w] = 0\n",
    "            dictionary[w] += 1\n",
    "    L = sorted([(w,dictionary[w]) for w in dictionary], key = lambda x: x[1] , reverse=True)\n",
    "    if limit > len(L): limit = len(L)\n",
    "    words = [ w for w,_ in L[:limit] ]\n",
    "    word2ind = { w:i for i,w in enumerate(words)}\n",
    "    pb.stop()\n",
    "    return words, word2ind"
   ]
  },
  {
   "cell_type": "code",
   "execution_count": 3,
   "id": "8df423c9",
   "metadata": {},
   "outputs": [],
   "source": [
    "corpus_root = '../JOURNALISM.BG/C-MassMedia'\n",
    "myCorpus = PlaintextCorpusReader(corpus_root, '.*\\.txt')\n",
    "startToken = '<START>'\n",
    "endToken = '<END>'\n",
    "corpus =  [[startToken] + [w.lower() for w in myCorpus.words(f)] + [endToken] for f in myCorpus.fileids()]"
   ]
  },
  {
   "cell_type": "code",
   "execution_count": 4,
   "id": "4d9e1e12",
   "metadata": {},
   "outputs": [
    {
     "name": "stdout",
     "output_type": "stream",
     "text": [
      "[                                                  --------------------------------------------------]\n"
     ]
    }
   ],
   "source": [
    "ws,wi=extractDictionary(corpus,limit=200)"
   ]
  },
  {
   "cell_type": "code",
   "execution_count": 5,
   "id": "6a36c421",
   "metadata": {},
   "outputs": [
    {
     "data": {
      "text/plain": [
       "['военни',\n",
       " 'президент',\n",
       " 'няма',\n",
       " 'правителство',\n",
       " 'херцеговина',\n",
       " 'този',\n",
       " 'преди',\n",
       " 'или',\n",
       " 'при',\n",
       " 'ако']"
      ]
     },
     "execution_count": 5,
     "metadata": {},
     "output_type": "execute_result"
    }
   ],
   "source": [
    "ws[120:130]"
   ]
  },
  {
   "cell_type": "code",
   "execution_count": 6,
   "id": "ea310530",
   "metadata": {},
   "outputs": [
    {
     "data": {
      "text/plain": [
       "'президент'"
      ]
     },
     "execution_count": 6,
     "metadata": {},
     "output_type": "execute_result"
    }
   ],
   "source": [
    "ws[wi['президент']]"
   ]
  },
  {
   "cell_type": "code",
   "execution_count": 7,
   "id": "3d43c1ef",
   "metadata": {},
   "outputs": [],
   "source": [
    "def co_occurrence_matrix(corpus, window_size=4, limit=20000):\n",
    "    words, word2ind = extractDictionary(corpus,limit=limit)\n",
    "    num_words = len(words)\n",
    "    \n",
    "    X=np.zeros((num_words,num_words))\n",
    "    \n",
    "    pb = progressBar()\n",
    "    pb.start(len(corpus))\n",
    "    for doc in corpus:\n",
    "        pb.tick()\n",
    "        for wi in range(len(doc)):\n",
    "            if doc[wi] not in word2ind: continue\n",
    "            i=word2ind[doc[wi]]\n",
    "            for k in range(1,window_size+1):\n",
    "                if wi-k>=0 and doc[wi-k] in word2ind:\n",
    "                    j=word2ind[doc[wi-k]]\n",
    "                    X[i,j] += 1\n",
    "                if wi+k<len(doc) and doc[wi+k] in word2ind:\n",
    "                    j=word2ind[doc[wi+k]]\n",
    "                    X[i,j] += 1\n",
    "    pb.stop()\n",
    "    return X, words, word2ind"
   ]
  },
  {
   "cell_type": "markdown",
   "id": "fa4b14a7",
   "metadata": {},
   "source": [
    "##### Какъв е смисъла на един ред от `co_occurrence_matrix` матрицата?"
   ]
  },
  {
   "cell_type": "code",
   "execution_count": 8,
   "id": "a7b1891c",
   "metadata": {},
   "outputs": [],
   "source": [
    "def PCA_k_dim(X, k=2):\n",
    "    # Документация на метода има на https://scikit-learn.org/stable/modules/generated/sklearn.decomposition.IncrementalPCA.html\n",
    "\n",
    "    print(\"Running Incremental PCA over %i words...\" % (X.shape[0]))\n",
    "    X0 = X - np.mean(X, axis=0)\n",
    "    pca = IncrementalPCA(n_components=k)\n",
    "    pca.fit(X0)\n",
    "    X_reduced = pca.transform(X0)\n",
    "    print(\"Done.\")\n",
    "    return X_reduced"
   ]
  },
  {
   "cell_type": "code",
   "execution_count": 9,
   "id": "3984befc",
   "metadata": {},
   "outputs": [],
   "source": [
    "def SVD_k_dim(X, k=100, n_iters = 10):\n",
    "    # Документация на метода има на https://scikit-learn.org/stable/modules/generated/sklearn.decomposition.TruncatedSVD.html\n",
    "    \n",
    "    print(\"Running Truncated SVD over %i words...\" % (X.shape[0]))\n",
    "    svd = TruncatedSVD(n_components=k, n_iter=n_iters)\n",
    "    svd.fit(X)\n",
    "    X_reduced = svd.transform(X)\n",
    "    print(\"Done.\")\n",
    "    return X_reduced"
   ]
  },
  {
   "cell_type": "code",
   "execution_count": 10,
   "id": "6bdad5e3",
   "metadata": {},
   "outputs": [],
   "source": [
    "def plot_embeddings(M, word2ind, words):\n",
    "    xs = M[:,0]\n",
    "    ys = M[:,1]\n",
    "    for w in words:\n",
    "        i=word2ind[w]\n",
    "        plt.scatter(xs[i],ys[i], marker='x', color= 'red')\n",
    "        plt.text(xs[i]+0.001, ys[i]+0.001, w)\n",
    "    plt.show()"
   ]
  },
  {
   "cell_type": "code",
   "execution_count": 11,
   "id": "d817a035",
   "metadata": {},
   "outputs": [],
   "source": [
    "def plot_embeddings_3d(M, word2ind, words):\n",
    "    fig = plt.figure()\n",
    "    ax = fig.add_subplot(111, projection='3d')\n",
    "\n",
    "    xs = M[:,0]\n",
    "    ys = M[:,1]\n",
    "    zs = M[:,2]\n",
    "    for w in words:\n",
    "        i=word2ind[w]\n",
    "        ax.scatter(xs[i], ys[i], zs[i], marker='x', color= 'red')\n",
    "        ax.text(xs[i]+0.001, ys[i]+0.001, zs[i]+0.001, w)\n",
    "    plt.show()"
   ]
  },
  {
   "cell_type": "markdown",
   "id": "8ccbccb8",
   "metadata": {},
   "source": [
    "####   Малък пример"
   ]
  },
  {
   "cell_type": "code",
   "execution_count": 12,
   "id": "ef011017",
   "metadata": {},
   "outputs": [],
   "source": [
    "text = '''\n",
    "    две хубави очи душата на дете\n",
    "    в две хубави очи музика лъчи\n",
    "    не искат и не обещават те\n",
    "    душата ми се моли\n",
    "    дете\n",
    "    душата ми се моли\n",
    "    страсти и неволи\n",
    "    ще хвърлят утре върху тях\n",
    "    булото на срам и грях\n",
    "    булото на срам и грях\n",
    "    не ще го хвърлят върху тях\n",
    "    страсти и неволи\n",
    "    душата ми се моли\n",
    "    дете\n",
    "    душата ми се моли\n",
    "    не искат и не обещават те\n",
    "    две хубави очи музика лъчи\n",
    "    в две хубави очи душата на дете\n",
    "    '''"
   ]
  },
  {
   "cell_type": "code",
   "execution_count": 13,
   "id": "cff0ecfd",
   "metadata": {},
   "outputs": [
    {
     "name": "stdout",
     "output_type": "stream",
     "text": [
      "[                                                  ]\n",
      "[                                                  ]\n"
     ]
    },
    {
     "data": {
      "text/plain": [
       "['душата', 'и', 'не', 'две', 'хубави', 'очи', 'на', 'дете', 'ми', 'се']"
      ]
     },
     "execution_count": 13,
     "metadata": {},
     "output_type": "execute_result"
    }
   ],
   "source": [
    "CC,ccww,ccwi = co_occurrence_matrix([text.split()], window_size=1, limit=10); ccww"
   ]
  },
  {
   "cell_type": "code",
   "execution_count": 14,
   "id": "b8cf1a39",
   "metadata": {},
   "outputs": [
    {
     "data": {
      "text/plain": [
       "array([[0., 0., 0., 0., 0., 2., 2., 2., 4., 0.],\n",
       "       [0., 0., 2., 0., 0., 0., 0., 0., 0., 0.],\n",
       "       [0., 2., 0., 0., 0., 0., 0., 0., 0., 0.],\n",
       "       [0., 0., 0., 0., 4., 0., 0., 0., 0., 0.],\n",
       "       [0., 0., 0., 4., 0., 4., 0., 0., 0., 0.],\n",
       "       [2., 0., 0., 0., 4., 0., 0., 0., 0., 0.],\n",
       "       [2., 0., 0., 0., 0., 0., 0., 2., 0., 0.],\n",
       "       [2., 0., 0., 0., 0., 0., 2., 0., 0., 0.],\n",
       "       [4., 0., 0., 0., 0., 0., 0., 0., 0., 4.],\n",
       "       [0., 0., 0., 0., 0., 0., 0., 0., 4., 0.]])"
      ]
     },
     "execution_count": 14,
     "metadata": {},
     "output_type": "execute_result"
    }
   ],
   "source": [
    "CC"
   ]
  },
  {
   "cell_type": "code",
   "execution_count": 15,
   "id": "749630c7",
   "metadata": {},
   "outputs": [
    {
     "name": "stdout",
     "output_type": "stream",
     "text": [
      "Running Truncated SVD over 10 words...\n",
      "Done.\n"
     ]
    }
   ],
   "source": [
    "CC_reduced = SVD_k_dim(CC,k=3)"
   ]
  },
  {
   "cell_type": "code",
   "execution_count": 16,
   "id": "5df6f2ed",
   "metadata": {
    "scrolled": true
   },
   "outputs": [
    {
     "data": {
      "text/plain": [
       "array([[ 3.60985286e+00,  3.26876129e+00, -1.16384688e+00],\n",
       "       [-1.92627854e-17, -2.66661908e-17, -2.21501065e-16],\n",
       "       [ 0.00000000e+00,  1.11022302e-16,  1.76941795e-16],\n",
       "       [ 1.31466049e+00, -1.58193926e+00,  2.46440278e+00],\n",
       "       [ 2.20685720e+00,  2.56854783e+00,  3.32942363e+00],\n",
       "       [ 2.38988433e+00, -2.58853562e+00,  2.03366945e+00],\n",
       "       [ 1.53134830e+00, -7.69601866e-01, -6.83806280e-01],\n",
       "       [ 1.53134830e+00, -7.69601866e-01, -6.83806280e-01],\n",
       "       [ 3.33339555e+00, -3.24352102e+00, -1.90539288e+00],\n",
       "       [ 1.98575759e+00,  1.99764754e+00, -1.41035087e+00]])"
      ]
     },
     "execution_count": 16,
     "metadata": {},
     "output_type": "execute_result"
    }
   ],
   "source": [
    "CC_reduced"
   ]
  },
  {
   "cell_type": "code",
   "execution_count": 17,
   "id": "c89bdd39",
   "metadata": {},
   "outputs": [
    {
     "data": {
      "image/png": "[encoded data removed]",
      "text/plain": [
       "<Figure size 432x288 with 1 Axes>"
      ]
     },
     "metadata": {
      "needs_background": "light"
     },
     "output_type": "display_data"
    }
   ],
   "source": [
    "plot_embeddings(CC_reduced, ccwi, ccww)"
   ]
  },
  {
   "cell_type": "code",
   "execution_count": 18,
   "id": "42bac5b5",
   "metadata": {},
   "outputs": [
    {
     "data": {
      "image/png": "[encoded data removed]",
      "text/plain": [
       "<Figure size 432x288 with 1 Axes>"
      ]
     },
     "metadata": {
      "needs_background": "light"
     },
     "output_type": "display_data"
    }
   ],
   "source": [
    "# Документация за np.linalg.norm има на https://numpy.org/doc/stable/reference/generated/numpy.linalg.norm.html\n",
    "CC_lengths = np.linalg.norm(CC_reduced, axis=1)[:, np.newaxis]\n",
    "CC_normalized = CC_reduced / CC_lengths\n",
    "plot_embeddings_3d(CC_normalized, ccwi, ccww)"
   ]
  },
  {
   "cell_type": "markdown",
   "id": "54f41bc2",
   "metadata": {},
   "source": [
    "##### Пълен пример"
   ]
  },
  {
   "cell_type": "code",
   "execution_count": 19,
   "id": "24ecc3e5",
   "metadata": {},
   "outputs": [],
   "source": [
    "corpus_root = '../JOURNALISM.BG/C-MassMedia'\n",
    "myCorpus = PlaintextCorpusReader(corpus_root, '.*\\.txt')\n",
    "startToken = '<START>'\n",
    "endToken = '<END>'\n",
    "corpus =  [[startToken] + [w.lower() for w in myCorpus.words(f)] + [endToken] for f in myCorpus.fileids()]"
   ]
  },
  {
   "cell_type": "code",
   "execution_count": 20,
   "id": "5cbe5ded",
   "metadata": {
    "scrolled": true
   },
   "outputs": [
    {
     "name": "stdout",
     "output_type": "stream",
     "text": [
      "[                                                  --------------------------------------------------]\n",
      "[                                                  --------------------------------------------------]\n"
     ]
    }
   ],
   "source": [
    "C, words, word2ind = co_occurrence_matrix(corpus)"
   ]
  },
  {
   "cell_type": "code",
   "execution_count": 21,
   "id": "955c5c8a",
   "metadata": {},
   "outputs": [
    {
     "data": {
      "text/plain": [
       "(20000, 20000)"
      ]
     },
     "execution_count": 21,
     "metadata": {},
     "output_type": "execute_result"
    }
   ],
   "source": [
    "C.shape"
   ]
  },
  {
   "cell_type": "code",
   "execution_count": 22,
   "id": "0bac2f4e",
   "metadata": {},
   "outputs": [
    {
     "data": {
      "text/plain": [
       "['или', 'при', 'ако', 'страна', 'петък']"
      ]
     },
     "execution_count": 22,
     "metadata": {},
     "output_type": "execute_result"
    }
   ],
   "source": [
    "words[127:132]"
   ]
  },
  {
   "cell_type": "code",
   "execution_count": 23,
   "id": "5953edb2",
   "metadata": {},
   "outputs": [
    {
     "data": {
      "text/plain": [
       "array([[312.,  53.,  96.,  66.,   9.],\n",
       "       [ 53.,  46.,  22.,  35.,  28.],\n",
       "       [ 96.,  22.,  10.,  45.,   8.],\n",
       "       [ 66.,  35.,  45.,  28.,  18.],\n",
       "       [  9.,  28.,   8.,  18.,   0.]])"
      ]
     },
     "execution_count": 23,
     "metadata": {},
     "output_type": "execute_result"
    }
   ],
   "source": [
    "c=C[127:132,127:132];c"
   ]
  },
  {
   "cell_type": "code",
   "execution_count": 24,
   "id": "6d936cef",
   "metadata": {},
   "outputs": [
    {
     "name": "stdout",
     "output_type": "stream",
     "text": [
      "Running Truncated SVD over 20000 words...\n",
      "Done.\n"
     ]
    }
   ],
   "source": [
    "C_reduced = SVD_k_dim(C)"
   ]
  },
  {
   "cell_type": "code",
   "execution_count": 25,
   "id": "2c9914e9",
   "metadata": {},
   "outputs": [
    {
     "data": {
      "text/plain": [
       "(20000, 100)"
      ]
     },
     "execution_count": 25,
     "metadata": {},
     "output_type": "execute_result"
    }
   ],
   "source": [
    "C_reduced.shape"
   ]
  },
  {
   "cell_type": "code",
   "execution_count": 26,
   "id": "f994e61a",
   "metadata": {},
   "outputs": [],
   "source": [
    "C_reduced_2d = C_reduced[:,:2]\n",
    "C_lengths_2d = np.linalg.norm(C_reduced_2d, axis=1)\n",
    "C_normalized_2d = C_reduced_2d / C_lengths_2d[:, np.newaxis]"
   ]
  },
  {
   "cell_type": "code",
   "execution_count": 27,
   "id": "05a43f71",
   "metadata": {},
   "outputs": [],
   "source": [
    "sampleWords = ['кола', 'автомобил', 'румъния', 'министър', 'президент', 'гърция', 'футбол', 'спорт', 'баскетбол', 'българия', 'театър', 'кино', 'опера']"
   ]
  },
  {
   "cell_type": "code",
   "execution_count": 28,
   "id": "02699541",
   "metadata": {},
   "outputs": [
    {
     "data": {
      "image/png": "[encoded data removed]",
      "text/plain": [
       "<Figure size 432x288 with 1 Axes>"
      ]
     },
     "metadata": {
      "needs_background": "light"
     },
     "output_type": "display_data"
    }
   ],
   "source": [
    "plot_embeddings(C_normalized_2d, word2ind, sampleWords)"
   ]
  },
  {
   "cell_type": "code",
   "execution_count": 29,
   "id": "b8ff8a1c",
   "metadata": {},
   "outputs": [],
   "source": [
    "C_reduced_3d = C_reduced[:,:3]\n",
    "C_lengths_3d = np.linalg.norm(C_reduced_3d, axis=1)\n",
    "C_normalized_3d = C_reduced_3d / C_lengths_3d[:, np.newaxis]"
   ]
  },
  {
   "cell_type": "code",
   "execution_count": 30,
   "id": "f30edfdf",
   "metadata": {},
   "outputs": [
    {
     "data": {
      "image/png": "[encoded data removed]",
      "text/plain": [
       "<Figure size 432x288 with 1 Axes>"
      ]
     },
     "metadata": {
      "needs_background": "light"
     },
     "output_type": "display_data"
    }
   ],
   "source": [
    "plot_embeddings_3d(C_normalized_3d, word2ind, sampleWords)"
   ]
  },
  {
   "cell_type": "code",
   "execution_count": 31,
   "id": "460b2417",
   "metadata": {},
   "outputs": [],
   "source": [
    "def PMI_matrix(C):\n",
    "    rowSums = np.sum(C,axis=1)\n",
    "    colSums = np.sum(C,axis=0)\n",
    "    D = np.sum(rowSums)\n",
    "    Z = np.outer(rowSums,colSums)\n",
    "    # p(x,y)/(p(x)*p(y)) = (C[x,y]/D)/( (sum(C[x,:])/D) * (sum(C[:,y])/D) )\n",
    "    X = np.maximum(np.log( D * C / Z),0) # minmax на pmi защо режем?\n",
    "    return X"
   ]
  },
  {
   "cell_type": "code",
   "execution_count": 32,
   "id": "04a8e9c7",
   "metadata": {},
   "outputs": [],
   "source": [
    "np.seterr(divide = 'ignore'); "
   ]
  },
  {
   "cell_type": "code",
   "execution_count": 33,
   "id": "4c60095b",
   "metadata": {},
   "outputs": [
    {
     "data": {
      "text/plain": [
       "array([[0.22745591, 0.        , 0.13443805, 0.        , 0.        ],\n",
       "       [0.        , 0.45149093, 0.        , 0.13563798, 1.02685508],\n",
       "       [0.13443805, 0.        , 0.        , 0.40339114, 0.        ],\n",
       "       [0.        , 0.13563798, 0.40339114, 0.        , 0.54246271],\n",
       "       [0.        , 1.02685508, 0.        , 0.54246271, 0.        ]])"
      ]
     },
     "execution_count": 33,
     "metadata": {},
     "output_type": "execute_result"
    }
   ],
   "source": [
    "PMI_matrix(c)"
   ]
  },
  {
   "cell_type": "code",
   "execution_count": null,
   "id": "f33ecd73",
   "metadata": {},
   "outputs": [],
   "source": [
    "X = PMI_matrix(C)"
   ]
  },
  {
   "cell_type": "code",
   "execution_count": null,
   "id": "2be561df",
   "metadata": {},
   "outputs": [],
   "source": [
    "X.shape"
   ]
  },
  {
   "cell_type": "code",
   "execution_count": null,
   "id": "684adf56",
   "metadata": {
    "scrolled": true
   },
   "outputs": [],
   "source": [
    "X_reduced = SVD_k_dim(X);X_reduced"
   ]
  },
  {
   "cell_type": "code",
   "execution_count": null,
   "id": "e6d192b6",
   "metadata": {},
   "outputs": [],
   "source": [
    "X_reduced_3d = X_reduced[:,:3]\n",
    "X_lengths_3d = np.linalg.norm(X_reduced_3d, axis=1)\n",
    "X_normalized_3d = X_reduced_3d / X_lengths_3d[:, np.newaxis]"
   ]
  },
  {
   "cell_type": "code",
   "execution_count": null,
   "id": "b199eb2c",
   "metadata": {},
   "outputs": [],
   "source": [
    "plot_embeddings_3d(X_normalized_3d, word2ind, sampleWords)"
   ]
  },
  {
   "cell_type": "code",
   "execution_count": null,
   "id": "814f6612",
   "metadata": {},
   "outputs": [],
   "source": [
    "C_lengths_100d = np.linalg.norm(C_reduced, axis=1)\n",
    "C_normalized_100d = C_reduced / C_lengths_100d[:, np.newaxis]"
   ]
  },
  {
   "cell_type": "code",
   "execution_count": null,
   "id": "4b72c8ba",
   "metadata": {},
   "outputs": [],
   "source": [
    "X_lengths_100d = np.linalg.norm(X_reduced, axis=1)\n",
    "X_normalized_100d = X_reduced / X_lengths_100d[:, np.newaxis]"
   ]
  },
  {
   "cell_type": "code",
   "execution_count": null,
   "id": "f25a6428",
   "metadata": {},
   "outputs": [],
   "source": [
    "def most_similar(w,word2ind,words,C,limit=10):\n",
    "    i = word2ind[w]\n",
    "    L = np.dot(C,C[i]).tolist() # cosine similarity\n",
    "    L = sorted([(words[i],s) for i,s in enumerate(L)], key = lambda x: x[1] , reverse=True)\n",
    "    return L[:limit]"
   ]
  },
  {
   "cell_type": "code",
   "execution_count": null,
   "id": "8a31725d",
   "metadata": {},
   "outputs": [],
   "source": [
    "pprint.pprint(most_similar('гърция',word2ind,words,C_normalized_100d))"
   ]
  },
  {
   "cell_type": "code",
   "execution_count": null,
   "id": "f4c73997",
   "metadata": {
    "scrolled": true
   },
   "outputs": [],
   "source": [
    "pprint.pprint(most_similar('гърция',word2ind,words,X_normalized_100d))"
   ]
  },
  {
   "cell_type": "code",
   "execution_count": null,
   "id": "9d64460e",
   "metadata": {},
   "outputs": [],
   "source": [
    "pprint.pprint(most_similar('футбол',word2ind,words,C_normalized_100d))"
   ]
  },
  {
   "cell_type": "code",
   "execution_count": null,
   "id": "161d39b0",
   "metadata": {},
   "outputs": [],
   "source": [
    "pprint.pprint(most_similar('футбол',word2ind,words,X_normalized_100d))"
   ]
  },
  {
   "cell_type": "code",
   "execution_count": null,
   "id": "91db0fe4",
   "metadata": {},
   "outputs": [],
   "source": [
    "pprint.pprint(most_similar('камион',word2ind,words,C_normalized_100d))"
   ]
  },
  {
   "cell_type": "code",
   "execution_count": null,
   "id": "047d240a",
   "metadata": {},
   "outputs": [],
   "source": [
    "pprint.pprint(most_similar('камион',word2ind,words,X_normalized_100d))"
   ]
  },
  {
   "cell_type": "markdown",
   "id": "e587fbe7",
   "metadata": {},
   "source": [
    "##### "
   ]
  }
 ],
 "metadata": {
  "kernelspec": {
   "display_name": "Python 3 (ipykernel)",
   "language": "python",
   "name": "python3"
  },
  "language_info": {
   "codemirror_mode": {
    "name": "ipython",
    "version": 3
   },
   "file_extension": ".py",
   "mimetype": "text/x-python",
   "name": "python",
   "nbconvert_exporter": "python",
   "pygments_lexer": "ipython3",
   "version": "3.7.11"
  }
 },
 "nbformat": 4,
 "nbformat_minor": 5
}
