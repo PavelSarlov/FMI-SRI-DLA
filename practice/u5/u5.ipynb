{
 "cells": [
  {
   "cell_type": "markdown",
   "id": "abcf59ce",
   "metadata": {},
   "source": [
    "## Търсене и извличане на информация. Приложение на дълбоко машинно обучение\n",
    "> ### Стоян Михов\n",
    "> #### Зимен семестър 2021/2022\n",
    "\n",
    "### Упражнение 5\n",
    "\n",
    " За да работи програмата трябва корпуса от публицистични текстове за Югоизточна Европа,\n",
    " да се намира разархивиран в директорията, в която е програмата (виж упражнение 2).\n",
    "\n",
    " Преди да се стартира програмата е необходимо да се активира съответното обкръжение с командата: `conda activate tii`"
   ]
  },
  {
   "cell_type": "code",
   "execution_count": 15,
   "id": "a5f2ef8c",
   "metadata": {},
   "outputs": [],
   "source": [
    "import nltk\n",
    "from nltk.corpus import PlaintextCorpusReader\n",
    "import sys\n",
    "import random\n",
    "import math\n",
    "import matplotlib.pyplot as plt"
   ]
  },
  {
   "cell_type": "code",
   "execution_count": 16,
   "id": "ef947630",
   "metadata": {},
   "outputs": [
    {
     "name": "stderr",
     "output_type": "stream",
     "text": [
      "[nltk_data] Downloading package punkt to\n",
      "[nltk_data]     C:\\Users\\muchd\\AppData\\Roaming\\nltk_data...\n",
      "[nltk_data]   Package punkt is already up-to-date!\n"
     ]
    },
    {
     "data": {
      "text/plain": [
       "True"
      ]
     },
     "execution_count": 16,
     "metadata": {},
     "output_type": "execute_result"
    }
   ],
   "source": [
    "corpus_root = '../JOURNALISM.BG/C-MassMedia'\n",
    "myCorpus = PlaintextCorpusReader(corpus_root, '.*\\.txt')\n",
    "nltk.download('punkt')"
   ]
  },
  {
   "cell_type": "code",
   "execution_count": 17,
   "id": "86d42c90",
   "metadata": {},
   "outputs": [],
   "source": [
    "class progressBar:\n",
    "    def __init__(self ,barWidth = 50):\n",
    "        self.barWidth = barWidth\n",
    "        self.period = None\n",
    "    def start(self, count):\n",
    "        self.item=0\n",
    "        self.period = int(count / self.barWidth)\n",
    "        sys.stdout.write(\"[\"+(\" \" * self.barWidth)+\"]\")\n",
    "        sys.stdout.flush()\n",
    "        sys.stdout.write(\"\\b\" * (self.barWidth+1))\n",
    "    def tick(self):\n",
    "        if self.item>0 and self.item % self.period == 0:\n",
    "            sys.stdout.write(\"-\")\n",
    "            sys.stdout.flush()\n",
    "        self.item += 1\n",
    "    def stop(self):\n",
    "        sys.stdout.write(\"]\\n\")"
   ]
  },
  {
   "cell_type": "code",
   "execution_count": 18,
   "id": "43c79504",
   "metadata": {},
   "outputs": [],
   "source": [
    "def splitSentCorpus(fullSentCorpus, testFraction = 0.1):\n",
    "    random.seed(42)\n",
    "    random.shuffle(fullSentCorpus)\n",
    "    testCount = int(len(fullSentCorpus) * testFraction)\n",
    "    testSentCorpus = fullSentCorpus[:testCount]\n",
    "    trainSentCorpus = fullSentCorpus[testCount:]\n",
    "    return testSentCorpus, trainSentCorpus"
   ]
  },
  {
   "cell_type": "code",
   "execution_count": 19,
   "id": "926af453",
   "metadata": {},
   "outputs": [],
   "source": [
    "startToken = '<START>'\n",
    "endToken = '<END>'\n",
    "unkToken = '<UNK>'"
   ]
  },
  {
   "cell_type": "code",
   "execution_count": 20,
   "id": "a9cc515b",
   "metadata": {},
   "outputs": [],
   "source": [
    "fullSentCorpus = [ [startToken] + [w.lower() for w in sent] + [endToken] \\\n",
    "                  for sent in myCorpus.sents()]\n",
    "testDevSentCorpus, trainSentCorpus = splitSentCorpus(fullSentCorpus)\n",
    "testSentCorpus, devSentCorpus = splitSentCorpus(testDevSentCorpus, testFraction = 0.5)"
   ]
  },
  {
   "cell_type": "code",
   "execution_count": 27,
   "id": "1db65a34",
   "metadata": {},
   "outputs": [
    {
     "data": {
      "text/plain": [
       "[['<START>',\n",
       "  'атина',\n",
       "  ',',\n",
       "  'гърция',\n",
       "  '--',\n",
       "  'министърът',\n",
       "  'на',\n",
       "  'отбраната',\n",
       "  'янос',\n",
       "  'папандониу',\n",
       "  'заяви',\n",
       "  ',',\n",
       "  'че',\n",
       "  'страната',\n",
       "  'продължава',\n",
       "  'да',\n",
       "  'подкрепя',\n",
       "  'мирното',\n",
       "  'разрешаване',\n",
       "  'на',\n",
       "  'кризата',\n",
       "  'в',\n",
       "  'ирак',\n",
       "  '.',\n",
       "  '<END>'],\n",
       " ['<START>',\n",
       "  '***',\n",
       "  'международна',\n",
       "  'конференция',\n",
       "  'по',\n",
       "  'южнославянски',\n",
       "  'и',\n",
       "  'балкански',\n",
       "  'езици',\n",
       "  'бе',\n",
       "  'открита',\n",
       "  'в',\n",
       "  'софия',\n",
       "  'в',\n",
       "  'сряда',\n",
       "  '(',\n",
       "  '18',\n",
       "  'октомври',\n",
       "  ').',\n",
       "  '<END>'],\n",
       " ['<START>',\n",
       "  'при',\n",
       "  'липсата',\n",
       "  'на',\n",
       "  'планове',\n",
       "  'за',\n",
       "  'приватизация',\n",
       "  'на',\n",
       "  'производството',\n",
       "  ',',\n",
       "  'вниманието',\n",
       "  'е',\n",
       "  'насочено',\n",
       "  'към',\n",
       "  'модернизиране',\n",
       "  'на',\n",
       "  'съществуващите',\n",
       "  'съоръжения',\n",
       "  'и',\n",
       "  'построяването',\n",
       "  'на',\n",
       "  'нови',\n",
       "  'енергийни',\n",
       "  'централи',\n",
       "  '.',\n",
       "  '<END>'],\n",
       " ['<START>',\n",
       "  'подпалвачи',\n",
       "  'атакуваха',\n",
       "  'пет',\n",
       "  'джамии',\n",
       "  'в',\n",
       "  'турция',\n",
       "  '20',\n",
       "  '/',\n",
       "  '05',\n",
       "  '/',\n",
       "  '2009',\n",
       "  '<END>'],\n",
       " ['<START>',\n",
       "  'през',\n",
       "  'последните',\n",
       "  'седмици',\n",
       "  'възникнаха',\n",
       "  'няколко',\n",
       "  'скандала',\n",
       "  'по',\n",
       "  'повод',\n",
       "  'на',\n",
       "  'процедурни',\n",
       "  'въпроси',\n",
       "  '.',\n",
       "  '<END>'],\n",
       " ['<START>',\n",
       "  'сега',\n",
       "  'е',\n",
       "  'времето',\n",
       "  'да',\n",
       "  'покажем',\n",
       "  'прагматизъм',\n",
       "  'като',\n",
       "  'две',\n",
       "  'страни',\n",
       "  'с',\n",
       "  'общ',\n",
       "  'интерес',\n",
       "  'на',\n",
       "  'международната',\n",
       "  'сцена',\n",
       "  '.',\n",
       "  '<END>'],\n",
       " ['<START>',\n",
       "  'хърватски',\n",
       "  'филм',\n",
       "  '\"',\n",
       "  'та',\n",
       "  'дивна',\n",
       "  'сплитска',\n",
       "  'ноч',\n",
       "  '\"',\n",
       "  'спечели',\n",
       "  'специална',\n",
       "  'награда',\n",
       "  'от',\n",
       "  'журито',\n",
       "  'на',\n",
       "  'сараевски',\n",
       "  'филмен',\n",
       "  'фестивал',\n",
       "  '..',\n",
       "  '[',\n",
       "  'харис',\n",
       "  'мемия',\n",
       "  ']',\n",
       "  'първия',\n",
       "  'филм',\n",
       "  'на',\n",
       "  'българската',\n",
       "  'режисьорка',\n",
       "  'зорница',\n",
       "  'софия',\n",
       "  ',',\n",
       "  '\"',\n",
       "  'мила',\n",
       "  'от',\n",
       "  'марс',\n",
       "  '\",',\n",
       "  'спечели',\n",
       "  'наградата',\n",
       "  'сърцето',\n",
       "  'на',\n",
       "  'сараево',\n",
       "  'на',\n",
       "  'сараевския',\n",
       "  'филмен',\n",
       "  'фестивал',\n",
       "  'на',\n",
       "  '28',\n",
       "  'август',\n",
       "  'както',\n",
       "  'и',\n",
       "  'парична',\n",
       "  'награва',\n",
       "  'в',\n",
       "  'размер',\n",
       "  'на',\n",
       "  '25',\n",
       "  '000',\n",
       "  'евро',\n",
       "  '.',\n",
       "  '<END>'],\n",
       " ['<START>',\n",
       "  'евро',\n",
       "  'за',\n",
       "  'защита',\n",
       "  'на',\n",
       "  'околната',\n",
       "  'среда',\n",
       "  'през',\n",
       "  '2021',\n",
       "  'г',\n",
       "  '.,',\n",
       "  'за',\n",
       "  'да',\n",
       "  'покрие',\n",
       "  'стандартите',\n",
       "  'на',\n",
       "  'ес',\n",
       "  '.',\n",
       "  '<END>'],\n",
       " ['<START>',\n",
       "  'много',\n",
       "  'гласоподаватели',\n",
       "  'от',\n",
       "  'двете',\n",
       "  'големи',\n",
       "  'партии',\n",
       "  ',',\n",
       "  'изглежда',\n",
       "  'се',\n",
       "  'насочват',\n",
       "  'към',\n",
       "  'по',\n",
       "  '-',\n",
       "  'малките',\n",
       "  'леви',\n",
       "  'и',\n",
       "  'десни',\n",
       "  'партии',\n",
       "  ',',\n",
       "  'а',\n",
       "  'около',\n",
       "  '11',\n",
       "  '%',\n",
       "  'заявяват',\n",
       "  ',',\n",
       "  'че',\n",
       "  'все',\n",
       "  'още',\n",
       "  'не',\n",
       "  'са',\n",
       "  'решили',\n",
       "  'за',\n",
       "  'кого',\n",
       "  'да',\n",
       "  'гласуват',\n",
       "  '.',\n",
       "  '<END>'],\n",
       " ['<START>',\n",
       "  '(',\n",
       "  'дпа',\n",
       "  ',',\n",
       "  'енет',\n",
       "  ',',\n",
       "  'нюз',\n",
       "  'ин',\n",
       "  ',',\n",
       "  'скай',\n",
       "  '-',\n",
       "  '29',\n",
       "  '/',\n",
       "  '10',\n",
       "  '/',\n",
       "  '10',\n",
       "  ')',\n",
       "  '<END>']]"
      ]
     },
     "execution_count": 27,
     "metadata": {},
     "output_type": "execute_result"
    }
   ],
   "source": [
    "devSentCorpus[:10]"
   ]
  },
  {
   "cell_type": "code",
   "execution_count": 22,
   "id": "6f852d1a",
   "metadata": {},
   "outputs": [],
   "source": [
    "class MarkovModel:\n",
    "    def __init__(self, corpus, K, dictionaryLimit = 50000, startToken = '<START>', endToken = '<END>', \\\n",
    "                 unkToken = '<UNK>'):\n",
    "        self.K = K\n",
    "        self.startToken = startToken\n",
    "        self.endToken = endToken\n",
    "        self.unkToken = unkToken\n",
    "        self.kgrams ={}\n",
    "        self.extractMonograms(corpus,dictionaryLimit)\n",
    "        for k in range(2,K+1):\n",
    "            self.extractKgrams(corpus,k)\n",
    "        self.Tc = {}\n",
    "        for context in self.kgrams:\n",
    "            self.Tc[context] = sum( self.kgrams[context][v] for v in self.kgrams[context])\n",
    "\n",
    "    def extractMonograms(self, corpus,limit):\n",
    "        pb = progressBar()\n",
    "        pb.start(len(corpus))\n",
    "        dictionary = {}\n",
    "        for sent in corpus:\n",
    "            pb.tick()\n",
    "            for i in range(1,len(sent)):\n",
    "                w = sent[i]\n",
    "                if w not in dictionary:\n",
    "                    dictionary[w] = 0\n",
    "                dictionary[w] += 1\n",
    "        L = sorted([(w,dictionary[w]) for w in dictionary], key = lambda x: x[1] , reverse=True)\n",
    "        if limit > len(L): limit = len(L)\n",
    "        mono = { w:c for (w,c) in L[:limit] }\n",
    "        sumUnk = sum( c for (w,c) in L[limit:] )\n",
    "        mono[self.unkToken] = sumUnk\n",
    "        self.kgrams[tuple()] = mono\n",
    "        pb.stop()\n",
    "\n",
    "    def substituteUnkownWords(self, sentence):\n",
    "        return [ w if w in self.kgrams[tuple()] else self.unkToken for w in sentence]\n",
    "\n",
    "    def getContext(self, sent, k, i):\n",
    "        if i >= k-1:\n",
    "            context = sent[i-k+1:i]\n",
    "        else:\n",
    "            context = [self.startToken] * (k-i-1) + sent[:i]\n",
    "        return tuple(context)\n",
    "\n",
    "    def extractKgrams(self, corpus, k):\n",
    "        pb = progressBar()\n",
    "        pb.start(len(corpus))\n",
    "        for s in corpus:\n",
    "            pb.tick()\n",
    "            sent = self.substituteUnkownWords(s)\n",
    "            for i in range(1,len(sent)):\n",
    "                w = sent[i]\n",
    "                context = self.getContext(sent,k,i)\n",
    "                if context not in self.kgrams: self.kgrams[context] = {}\n",
    "                if w not in self.kgrams[context]: self.kgrams[context][w] = 0\n",
    "                self.kgrams[context][w] += 1\n",
    "        pb.stop()\n",
    "\n",
    "    def probMLE(self, w ,context):\n",
    "        if context not in self.kgrams:\n",
    "            return 0.0\n",
    "        elif w not in self.kgrams[context]:\n",
    "            return 0.0\n",
    "        else:\n",
    "            return self.kgrams[context][w] / self.Tc[context] # Pr(w|context)\n",
    "\n",
    "    def prob(self, w, context, alpha):\n",
    "        if context:\n",
    "            return alpha * self.probMLE(w,context) + (1-alpha) * self.prob(w,context[1:],alpha)\n",
    "        else:\n",
    "            return self.probMLE(w,context)\n",
    "\n",
    "    def sentenceLogProbability(self, s, alpha):\n",
    "        sent = self.substituteUnkownWords(s)\n",
    "        return sum(math.log(self.prob(sent[i],self.getContext(sent,self.K,i),alpha),2) for i in range(1,len(sent)))\n",
    "\n",
    "    def bestContinuation(self, sentence, alpha, l):\n",
    "        context = self.getContext(self.substituteUnkownWords(sentence), self.K, len(sentence))\n",
    "        for k in range(0,self.K):\n",
    "            if context[k:] in self.kgrams and len(self.kgrams[context[k:]]) >= l:\n",
    "                candidates = self.kgrams[context[k:]]\n",
    "                break\n",
    "        L = [(w,self.prob(w,context,alpha)) for w in candidates ]\n",
    "        return sorted(L, key = lambda x: x[1], reverse=True)[:l]\n",
    "\n",
    "    def perplexity(self, corpus, alpha):\n",
    "        pb = progressBar()\n",
    "        pb.start(len(corpus))\n",
    "        m = sum(len(s)-1 for s in corpus) # -1 for the start token\n",
    "        crossEntropy=0.0\n",
    "        for s in corpus:\n",
    "            pb.tick()\n",
    "            crossEntropy -= self.sentenceLogProbability(s,alpha)\n",
    "        crossEntropyRate = crossEntropy / m\n",
    "        pb.stop()\n",
    "        return 2 ** crossEntropyRate"
   ]
  },
  {
   "cell_type": "code",
   "execution_count": 23,
   "id": "70dc66c6",
   "metadata": {},
   "outputs": [
    {
     "name": "stdout",
     "output_type": "stream",
     "text": [
      "[                                                  --------------------------------------------------]\n"
     ]
    }
   ],
   "source": [
    "M1 = MarkovModel(trainSentCorpus,1)"
   ]
  },
  {
   "cell_type": "code",
   "execution_count": 24,
   "id": "1d5e40a9",
   "metadata": {},
   "outputs": [
    {
     "name": "stdout",
     "output_type": "stream",
     "text": [
      "[                                                  --------------------------------------------------]\n",
      "Перплексията на монограмния модел върху dev е: 1013.6716418031258\n"
     ]
    }
   ],
   "source": [
    "print('Перплексията на монограмния модел върху dev е: '+str(M1.perplexity(devSentCorpus,0)))"
   ]
  },
  {
   "cell_type": "code",
   "execution_count": 25,
   "id": "fc4885e6",
   "metadata": {},
   "outputs": [
    {
     "name": "stdout",
     "output_type": "stream",
     "text": [
      "[                                                  --------------------------------------------------]\n",
      "Перплексията на монограмния модел върху test е: 1017.1788874840922\n"
     ]
    }
   ],
   "source": [
    "print('Перплексията на монограмния модел върху test е: '+str(M1.perplexity(testSentCorpus,0)))"
   ]
  },
  {
   "cell_type": "code",
   "execution_count": null,
   "id": "60e969aa",
   "metadata": {},
   "outputs": [],
   "source": [
    "M1.bestContinuation(['<START>', 'от', 'днес', 'до', 'края', 'на'],0,10)"
   ]
  },
  {
   "cell_type": "code",
   "execution_count": null,
   "id": "1e688114",
   "metadata": {},
   "outputs": [],
   "source": [
    "M2 = MarkovModel(trainSentCorpus,2)"
   ]
  },
  {
   "cell_type": "code",
   "execution_count": null,
   "id": "fb868d42",
   "metadata": {},
   "outputs": [],
   "source": [
    "M2.bestContinuation(['<START>', 'от', 'днес', 'до', 'края', 'на'],0.9, 10)"
   ]
  },
  {
   "cell_type": "code",
   "execution_count": null,
   "id": "38c16629",
   "metadata": {},
   "outputs": [],
   "source": [
    "M3 = MarkovModel(trainSentCorpus,3)"
   ]
  },
  {
   "cell_type": "code",
   "execution_count": null,
   "id": "11ca2d76",
   "metadata": {},
   "outputs": [],
   "source": [
    "M3.bestContinuation(['<START>', 'от', 'днес', 'до', 'края', 'на'],0.6, 10)"
   ]
  },
  {
   "cell_type": "code",
   "execution_count": null,
   "id": "399b6b22",
   "metadata": {},
   "outputs": [],
   "source": [
    "M2.bestContinuation(['<START>', 'в', 'софия', 'се'],0.9, 10)"
   ]
  },
  {
   "cell_type": "code",
   "execution_count": null,
   "id": "e63849c3",
   "metadata": {},
   "outputs": [],
   "source": [
    "M3.bestContinuation(['<START>', 'в', 'софия', 'се'],0.6, 10)"
   ]
  },
  {
   "cell_type": "code",
   "execution_count": null,
   "id": "48c591db",
   "metadata": {},
   "outputs": [],
   "source": [
    "alpha=[0.01]+[0.1*k for k in range(1,10)]+[0.99];alpha"
   ]
  },
  {
   "cell_type": "code",
   "execution_count": null,
   "id": "80d466cf",
   "metadata": {},
   "outputs": [],
   "source": [
    "perp2 = [M2.perplexity(devSentCorpus,a) for a in alpha]"
   ]
  },
  {
   "cell_type": "code",
   "execution_count": null,
   "id": "1a68c162",
   "metadata": {},
   "outputs": [],
   "source": [
    "perp3 = [M3.perplexity(devSentCorpus,a) for a in alpha]"
   ]
  },
  {
   "cell_type": "code",
   "execution_count": null,
   "id": "c9dfea45",
   "metadata": {},
   "outputs": [],
   "source": [
    "plt.plot(alpha,perp2)\n",
    "plt.plot(alpha,perp3)\n",
    "plt.ylabel('Перплексия')\n",
    "plt.xlabel('Алфа')\n",
    "plt.legend(['Биграмен','Триграмен'])\n",
    "plt.show()"
   ]
  },
  {
   "cell_type": "code",
   "execution_count": null,
   "id": "3e3b6f85",
   "metadata": {},
   "outputs": [],
   "source": [
    "print('Перплексията на биграмния модел при алфа=0.9 върху dev е: '+str(M2.perplexity(devSentCorpus,0.9)))\n",
    "print('Перплексията на биграмния модел при алфа=0.9 върху test е: '+str(M2.perplexity(testSentCorpus,0.9)))\n",
    "print('Перплексията на триграмния модел при алфа=0.6 върху dev е: '+str(M3.perplexity(devSentCorpus,0.6)))\n",
    "print('Перплексията на триграмния модел при алфа=0.6 върху test е: '+str(M3.perplexity(testSentCorpus,0.6)))"
   ]
  },
  {
   "cell_type": "code",
   "execution_count": null,
   "id": "1df9b8ec",
   "metadata": {},
   "outputs": [],
   "source": [
    "!head 1984.txt"
   ]
  },
  {
   "cell_type": "code",
   "execution_count": null,
   "id": "08e28c81",
   "metadata": {},
   "outputs": [],
   "source": [
    "corpus1984 = [ [startToken] + [w.lower() for w in sent] + [endToken] for sent in PlaintextCorpusReader('.', '1984.txt').sents() ]"
   ]
  },
  {
   "cell_type": "code",
   "execution_count": null,
   "id": "8249833d",
   "metadata": {},
   "outputs": [],
   "source": [
    "corpus1984[:10]"
   ]
  },
  {
   "cell_type": "code",
   "execution_count": null,
   "id": "4b7874be",
   "metadata": {},
   "outputs": [],
   "source": [
    "M3.perplexity(corpus1984,0.6)"
   ]
  }
 ],
 "metadata": {
  "kernelspec": {
   "display_name": "Python 3 (ipykernel)",
   "language": "python",
   "name": "python3"
  },
  "language_info": {
   "codemirror_mode": {
    "name": "ipython",
    "version": 3
   },
   "file_extension": ".py",
   "mimetype": "text/x-python",
   "name": "python",
   "nbconvert_exporter": "python",
   "pygments_lexer": "ipython3",
   "version": "3.7.11"
  }
 },
 "nbformat": 4,
 "nbformat_minor": 5
}
