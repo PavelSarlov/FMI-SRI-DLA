{
 "cells": [
  {
   "cell_type": "code",
   "execution_count": 176,
   "id": "a8046ece",
   "metadata": {},
   "outputs": [],
   "source": [
    "#############################################################################\n",
    "### Търсене и извличане на информация. Приложение на дълбоко машинно обучение\n",
    "### Стоян Михов\n",
    "### Зимен семестър 2021/2022\n",
    "#############################################################################\n",
    "\n",
    "### Домашно задание 1\n",
    "###\n",
    "### Преди да се стартира програмата е необходимо да се активира съответното обкръжение с командата:\n",
    "### conda activate tii\n",
    "###\n",
    "### Ако все още нямате създадено обкръжение прочетете файла README.txt за инструкции\n",
    "\n",
    "\n",
    "########################################\n",
    "import numpy as np\n",
    "import random\n",
    "\n",
    "alphabet = ['а', 'б', 'в', 'г', 'д', 'е', 'ж', 'з', 'и', 'й', 'к', 'л', 'м', 'н', 'о', 'п', 'р', 'с', 'т', 'у', 'ф', 'х', 'ц', 'ч', 'ш', 'щ', 'ъ', 'ь', 'ю', 'я']\n",
    "\n",
    "def extractDictionary(corpus):\n",
    "    dictionary = set()\n",
    "    for doc in corpus:\n",
    "        for w in doc:\n",
    "            if w not in dictionary: dictionary.add(w)\n",
    "    return dictionary\n",
    "\n",
    "def editDistance(s1, s2):\n",
    "    #### функцията намира разстоянието на Левенщайн-Дамерау между два низа\n",
    "    #### вход: низовете s1 и s2\n",
    "    #### изход: минималният брой на елементарните операции ( вмъкване, изтриване, субституция и транспоциция на символи) необходими, за да се получи от единия низ другия\n",
    "\n",
    "    #############################################################################\n",
    "    #### Начало на Вашия код. На мястото на pass се очакват 10-25 реда\n",
    "\n",
    "    distMatrix = np.zeros((len(s1)+1,len(s2)+1), dtype=np.uint32)\n",
    "    distMatrix[0] = np.arange(len(s2)+1)\n",
    "    distMatrix[:,0] = np.arange(len(s1)+1)\n",
    "\n",
    "    for i in np.arange(1,len(s1)+1):\n",
    "        for j in np.arange(1,len(s2)+1):\n",
    "            cost = 0 if s1[i-1]==s2[j-1] else 1\n",
    "            distMatrix[i, j] = min(distMatrix[i-1, j-1] + cost,\n",
    "                                distMatrix[i, j-1] + 1,\n",
    "                                distMatrix[i-1, j] + 1)\n",
    "            if i>1 and j>1 and s1[i-1]==s2[j-2] and s1[i-2]==s2[j-1]:\n",
    "                distMatrix[i, j] = min(distMatrix[i, j],\n",
    "                                distMatrix[i-2, j-2] + 1)\n",
    "    return distMatrix[-1,-1]\n",
    "\n",
    "    #### Край на Вашия код\n",
    "    #############################################################################\n",
    "    \n",
    "def editOperations(s1, s2):\n",
    "    #### функцията намира елементарни редакции, неободими за получаването на един низ от друг\n",
    "    #### вход: низовете s1 и s2\n",
    "    #### изход: списък с елементарните редакции ( идентитет, вмъкване, изтриване, субституция и транспоциция на символи) необходими, за да се получи втория низ от първия\n",
    "    \n",
    "    #### Например: editOperations('котка', 'октава') би следвало да връща списъка:\n",
    "    ####    [('ко', 'ок'), ('т','т'), ('', 'а'), ('к', 'в'), ('а','а')]\n",
    "    ####        |ко   |т |   |к  |а |\n",
    "    ####        |ок   |т |а  |в  |а |\n",
    "    ####        |Trans|Id|Ins|Sub|Id|\n",
    "    ####\n",
    "    #### Можете да преизползвате и модифицирате кода на функцията editDistance\n",
    "    #############################################################################\n",
    "    #### Начало на Вашия код.\n",
    "\n",
    "    cellType = [('0', np.uint32, 3),('1','U2',2)]\n",
    "    distMatrix = np.empty((len(s1)+1,len(s2)+1), dtype=cellType)\n",
    "    distMatrix[0] = np.array([([x,0,max(x-1,0)],['',s2[x-1] if x>0 else '']) for x in np.arange(len(s2)+1)], dtype=cellType)\n",
    "    distMatrix[:,0] = np.array([([x,max(x-1,0),0],[s1[x-1] if x>0 else '','']) for x in np.arange(len(s1)+1)], dtype=cellType)\n",
    "\n",
    "    for i in np.arange(1,len(s1)+1):\n",
    "        for j in np.arange(1,len(s2)+1):\n",
    "            cost = 0 if s1[i-1]==s2[j-1] else 1\n",
    "            distMatrix[i, j] = min(([distMatrix[i-1, j-1][0][0] + cost, i-1, j-1], [s1[i-1], s2[j-1]]),\n",
    "                                ([distMatrix[i, j-1][0][0] + 1, i, j-1], ['', s2[j-1]]),\n",
    "                                ([distMatrix[i-1, j][0][0] + 1, i-1, j], [s1[i-1], '']),\n",
    "                                key = lambda x: x[0][0])\n",
    "            if i>1 and j>1 and s1[i-1]==s2[j-2] and s1[i-2]==s2[j-1]:\n",
    "                distMatrix[i, j] = min(distMatrix[i, j],\n",
    "                                ([distMatrix[i-2, j-2][0][0] + 1, i-2, j-2], [s1[i-2:i], s2[j-2:j]]),\n",
    "                                key = lambda x: x[0][0])\n",
    "\n",
    "    result = np.empty(0, dtype=[('0','U2'),('1','U2')])\n",
    "    cell = [np.size(distMatrix,0)-1, np.size(distMatrix,1)-1]\n",
    "    while any(cell):\n",
    "        result = np.insert(result, 0, tuple(distMatrix[cell[0], cell[1]][1]))\n",
    "        cell = distMatrix[cell[0],cell[1]][0][1:]\n",
    "    return result.tolist()\n",
    "\n",
    "    #### Край на Вашия код\n",
    "    #############################################################################\n",
    "\n",
    "def computeOperationProbs(corrected_corpus,uncorrected_corpus,smoothing = 0.2):\n",
    "    #### Функцията computeOperationProbs изчислява теглата на дадени елементарни операции (редакции)\n",
    "    #### Теглото зависи от конкретните символи. Използвайки корпусите, извлечете статистика. Използвайте принципа за максимално правдоподобие. Използвайте изглаждане. \n",
    "    #### Вход: Корпус без грешки, Корпус с грешки, параметър за изглаждане. С цел простота може да се счете, че j-тата дума в i-тото изречение на корпуса с грешки е на разстояние не повече от 2 (по Левенщайн-Дамерау) от  j-тата дума в i-тото изречение на корпуса без грешки.\n",
    "    #### Следва да се използват функциите generateCandidates, editOperations, \n",
    "    #### Помислете как ще изберете кандидат за поправка измежду всички възможни.\n",
    "    #### Важно! При изтриване и вмъкване се предполага, че празния низ е представен с ''\n",
    "    #### Изход: Речник, който по зададена наредена двойка от низове връща теглото за операцията.\n",
    "    \n",
    "    #### Първоначално ще трябва да преброите и запишете в речника operations броя на редакциите от всеки вид нужни, за да се поправи корпуса с грешки. След това изчислете съответните вероятности.\n",
    "    \n",
    "    operations = {} # Брой срещания за всяка елементарна операция + изглаждане\n",
    "    operationsProb = {} # Емпирична вероятност за всяка елементарна операция\n",
    "    for c in alphabet:\n",
    "        operations[(c,'')] = smoothing    # deletions\n",
    "        operations[('',c)] = smoothing    # insertions\n",
    "        for s in alphabet:\n",
    "            operations[(c,s)] = smoothing    # substitution and identity\n",
    "            if c == s:    \n",
    "                continue\n",
    "            operations[(c+s,s+c)] = smoothing    # transposition\n",
    "\n",
    "    #############################################################################\n",
    "    #### Начало на Вашия код.\n",
    "\n",
    "    for i in np.arange(len(corrected_corpus)):\n",
    "        for j in np.arange(len(corrected_corpus[i])):\n",
    "            for op in editOperations(corrected_corpus[i][j], uncorrected_corpus[i][j]):\n",
    "                if op in operations:\n",
    "                    operations[op] += 1\n",
    "\n",
    "    operationsCorpus = sum(int(o) if o > 0.2 else 0 for o in operations.values())\n",
    "    for op,val in operations.items():\n",
    "        operationsProb[op] = val/(smoothing*len(operations)+operationsCorpus)\n",
    "\n",
    "    #### Край на Вашия код.\n",
    "    #############################################################################\n",
    "    return operationsProb\n",
    "\n",
    "def operationWeight(a,b,operationProbs):\n",
    "    #### Функцията operationWeight връща теглото на дадена елементарна операция\n",
    "    #### Вход: Двата низа a,b, определящи операцията.\n",
    "    ####       Речник с вероятностите на елементарните операции.\n",
    "    #### Важно! При изтриване и вмъкване се предполага, че празния низ е представен с ''\n",
    "    #### изход: Теглото за операцията\n",
    "    \n",
    "    if (a,b) in operationProbs.keys():\n",
    "        return -np.log(operationProbs[(a,b)])\n",
    "    else:\n",
    "        print(\"Wrong parameters ({},{}) of operationWeight call encountered!\".format(a,b))\n",
    "\n",
    "def editWeight(s1, s2, operationProbs):\n",
    "    #### функцията editWeight намира теглото между два низа\n",
    "    #### За намиране на елеметарните тегла следва да се извиква функцията operationWeight\n",
    "    #### вход: низовете s1 и s2 и речник с вероятностите на елементарните операции.\n",
    "    #### изход: минималното тегло за подравняване, за да се получи втория низ от първия низ\n",
    "    \n",
    "    #############################################################################\n",
    "    #### Начало на Вашия код. На мястото на pass се очакват 10-25 реда\n",
    "\n",
    "    distMatrix = np.zeros((len(s1)+1,len(s2)+1))\n",
    "    if np.size(distMatrix, 1) > 1:\n",
    "        distMatrix[0, 1:] = np.array([operationWeight('', x, operationProbs) for x in s2])\n",
    "        for i in np.arange(2, np.size(distMatrix,1)):\n",
    "            distMatrix[0, i] += distMatrix[0, i-1]\n",
    "    if np.size(distMatrix, 0) > 1:\n",
    "        distMatrix[1:, 0] = np.array([operationWeight(x, '', operationProbs) for x in s1])\n",
    "        for i in np.arange(2, np.size(distMatrix,0)):\n",
    "            distMatrix[i, 0] += distMatrix[i-1, 0]\n",
    "\n",
    "    for i in np.arange(1,len(s1)+1):\n",
    "        for j in np.arange(1,len(s2)+1):\n",
    "            distMatrix[i, j] = min(distMatrix[i-1, j-1] + operationWeight(s1[i-1], s2[j-1], operationProbs),\n",
    "                                distMatrix[i, j-1] + operationWeight('', s2[j-1], operationProbs),\n",
    "                                distMatrix[i-1, j] + operationWeight(s1[i-1], '', operationProbs))\n",
    "            if i>1 and j>1 and s1[i-1]==s2[j-2] and s1[i-2]==s2[j-1]:\n",
    "                distMatrix[i, j] = min(distMatrix[i, j],\n",
    "                                distMatrix[i-2, j-2] + operationWeight(s1[i-2:i], s2[j-2:j], operationProbs))\n",
    "    return distMatrix[-1,-1]\n",
    "\n",
    "    #### Край на Вашия код. \n",
    "    #############################################################################\n",
    "\n",
    "def generateEdits(q):\n",
    "    ### помощната функция, generateEdits по зададена заявка генерира всички възможни редакции на разстояние едно от тази заявка.\n",
    "    ### Вход: заявка като низ q\n",
    "    ### Изход: Списък от низове на разстояние 1 по Левенщайн-Дамерау от заявката\n",
    "    ###\n",
    "    ### В тази функция вероятно ще трябва да използвате азбука, която е дефинирана с alphabet\n",
    "    ###\n",
    "    #############################################################################\n",
    "    #### Начало на Вашия код. На мястото на pass се очакват 10-15 реда\n",
    "\n",
    "    result = np.empty(0, dtype='U{}'.format(len(q)+1))\n",
    "    for i in np.arange(len(q)+1):\n",
    "        result = np.append(result, q[:i] + q[i+1:])\n",
    "        result = np.append(result, q[:i] + q[i:i+2][::-1] + q[i+2:])\n",
    "        result = np.append(result, [[q[:i] + c + q[i:], q[:i] + c + q[i+1:]] for c in alphabet])\n",
    "    return np.unique(np.delete(result, np.where(result == q))).tolist()\n",
    "        \n",
    "    #### Край на Вашия код\n",
    "    #############################################################################\n",
    "\n",
    "\n",
    "def generateCandidates(query,dictionary,operationProbs):\n",
    "    ### Започва от заявката query и генерира всички низове НА РАЗСТОЯНИЕ <= 2, за да се получат кандидатите за корекция. Връщат се единствено кандидати, които са в речника dictionary.\n",
    "        \n",
    "    ### Вход:\n",
    "    ###     Входен низ query\n",
    "    ###     Речник с допустими (правилни) думи: dictionary\n",
    "    ###     речник с вероятностите на елементарните операции.\n",
    "\n",
    "    ### Изход:\n",
    "    ###     Списък от двойки (candidate, candidate_edit_log_probability), където candidate е низ на кандидат, а candidate_edit_log_probability е логаритъм от вероятността за редакция -- минус теглото.\n",
    "    \n",
    "    #############################################################################\n",
    "    #### Начало на Вашия код. На мястото на pass се очакват 10-15 реда\n",
    "\n",
    "    allCandidates = np.array([query], dtype='U{}'.format(len(query)+2))\n",
    "    maxDist = 2\n",
    "    for i in range(maxDist):\n",
    "        temp = np.empty(0, dtype='U{}'.format(len(query)+2))\n",
    "        for q in allCandidates:\n",
    "            temp = np.append(temp, generateEdits(q))\n",
    "        allCandidates = np.append(np.delete(allCandidates, allCandidates==query), temp)\n",
    "        \n",
    "    result = np.empty(0, dtype=[('0', 'U{}'.format(len(query)+2)),('1','f4')])\n",
    "    for candidate in allCandidates:\n",
    "        if candidate in dictionary:\n",
    "            candidate_edit_log_prob = sum([-np.log(operationProbs[op]) for op in editOperations(query, candidate)]) - editWeight(query, candidate, operationProbs)\n",
    "            result = np.append(result, np.array([(candidate, candidate_edit_log_prob)], dtype = [('0', 'U{}'.format(len(query)+2)),('1','f4')]))\n",
    "    return np.unique(result).tolist()\n",
    "\n",
    "    #### Край на Вашия код\n",
    "    #############################################################################\n",
    "\n",
    "def correctSpelling(r, dictionary, operationProbs):\n",
    "    ### Функцията поправя корпус съдържащ евентуално сгрешени думи\n",
    "    ### Генераторът на кандидати връща и вероятността за редактиране.\n",
    "    ###\n",
    "    ### Вход:\n",
    "    ###    заявка: r - корпус от думи\n",
    "    ###    речник с правилни думи: dictionary,\n",
    "    ###    речник с вероятностите на елементарните операции: operationProbs\n",
    "    ###    Изход: поправен корпус\n",
    "\n",
    "    #############################################################################\n",
    "    #### Начало на Вашия код. На мястото на pass се очакват 5-15 реда\n",
    "\n",
    "    pass\n",
    "\n",
    "    #### Край на Вашия код\n",
    "    #############################################################################\n"
   ]
  },
  {
   "cell_type": "code",
   "execution_count": 150,
   "id": "065adde8",
   "metadata": {},
   "outputs": [
    {
     "data": {
      "text/plain": [
       "array([(1, 2), (1, 2)], dtype=[('0', '<i4'), ('1', '<i4')])"
      ]
     },
     "execution_count": 150,
     "metadata": {},
     "output_type": "execute_result"
    }
   ],
   "source": [
    "a = np.array([(1,2)], dtype=[('0','i4'),('1','i4')])\n",
    "np.append(a, np.array([(1,2)], dtype=[('0','i4'),('1','i4')]))"
   ]
  },
  {
   "cell_type": "code",
   "execution_count": 11,
   "id": "454f1f86",
   "metadata": {},
   "outputs": [
    {
     "name": "stderr",
     "output_type": "stream",
     "text": [
      "[nltk_data] Downloading package punkt to /home/psarlov/nltk_data...\n",
      "[nltk_data]   Package punkt is already up-to-date!\n"
     ]
    }
   ],
   "source": [
    "import a1 as a1\n",
    "import nltk\n",
    "nltk.download('punkt')\n",
    "from nltk.corpus import PlaintextCorpusReader\n",
    "import pickle"
   ]
  },
  {
   "cell_type": "code",
   "execution_count": 12,
   "id": "3d2efcce",
   "metadata": {},
   "outputs": [],
   "source": [
    "L1 = ['заявката','заявката','заявката','заявката','заявката','заявката']\n",
    "L2 = ['заявката','заявьата','завякатва','заявкатаа','вя','язвката']\n",
    "C = [0,1,2,1,7,3]\n",
    "O = [[('з', 'з'),  ('а', 'а'),  ('я', 'я'),  ('в', 'в'),  ('к', 'к'),  ('а', 'а'),  ('т', 'т'),  ('а', 'а')],\n",
    "     [('з', 'з'),  ('а', 'а'),  ('я', 'я'),  ('в', 'в'),  ('к', 'ь'),  ('а', 'а'),  ('т', 'т'),  ('а', 'а')],\n",
    "     [('з', 'з'),  ('а', 'а'),  ('яв', 'вя'),  ('к', 'к'),  ('а', 'а'),  ('т', 'т'),  ('', 'в'),  ('а', 'а')],\n",
    "     [('з', 'з'),  ('а', 'а'),  ('я', 'я'),  ('в', 'в'),  ('к', 'к'),  ('а', 'а'),  ('т', 'т'),  ('', 'а'),  ('а', 'а')],\n",
    "     [('з', ''), ('а', ''), ('я', ''), ('в', 'в'), ('к', ''), ('а', ''), ('т', ''), ('а', 'я')],\n",
    "     [('з', ''), ('а', 'я'), ('я', 'з'), ('в', 'в'),  ('к', 'к'),  ('а', 'а'),  ('т', 'т'),  ('а', 'а')]]\n",
    "D = [22.75, 32.06, 35.93, 32.02, 62.03, 43.71]"
   ]
  },
  {
   "cell_type": "code",
   "execution_count": 13,
   "id": "52a52714",
   "metadata": {},
   "outputs": [
    {
     "name": "stdout",
     "output_type": "stream",
     "text": [
      "Функцията editDistance премина теста.\n"
     ]
    }
   ],
   "source": [
    "for s1,s2,d in zip(L1,L2,C):\n",
    "    assert editDistance(s1,s2) == d, \"Разстоянието между '{}' и '{}' следва да е '{}'\".format(s1,s2,d)\n",
    "print(\"Функцията editDistance премина теста.\")"
   ]
  },
  {
   "cell_type": "code",
   "execution_count": 16,
   "id": "68d29648",
   "metadata": {},
   "outputs": [
    {
     "name": "stdout",
     "output_type": "stream",
     "text": [
      "Функцията editOperations премина теста.\n"
     ]
    }
   ],
   "source": [
    "for s1,s2,o in zip(L1,L2,O):\n",
    "    assert editOperations(s1,s2) == o, \"Операциите редактиращи '{}' до '{}' следва да са '{}'\".format(s1,s2,o)\n",
    "print(\"Функцията editOperations премина теста.\")"
   ]
  },
  {
   "cell_type": "code",
   "execution_count": 17,
   "id": "d80bc869",
   "metadata": {},
   "outputs": [
    {
     "name": "stdout",
     "output_type": "stream",
     "text": [
      "Прочитане на корпуса от текстове...\n",
      "Готово.\n"
     ]
    }
   ],
   "source": [
    "print('Прочитане на корпуса от текстове...')\n",
    "corpus_root = '.'\n",
    "original = PlaintextCorpusReader(corpus_root, 'corpus_original.txt')\n",
    "fullSentCorpusOriginal = [[w.lower() for w in sent] for sent in original.sents()]\n",
    "typos = PlaintextCorpusReader(corpus_root, 'corpus_typos.txt')\n",
    "fullSentCorpusTypos = [[w.lower() for w in sent] for sent in typos.sents()]\n",
    "print('Готово.')"
   ]
  },
  {
   "cell_type": "code",
   "execution_count": 28,
   "id": "9d802cc9",
   "metadata": {},
   "outputs": [
    {
     "name": "stdout",
     "output_type": "stream",
     "text": [
      "Пресмятане вероятностите на елементарните операции...\n",
      "Готово.\n",
      "Функцията computeOperationProbs премина теста.\n"
     ]
    }
   ],
   "source": [
    "print('Пресмятане вероятностите на елементарните операции...')\n",
    "operationProbs = computeOperationProbs(fullSentCorpusOriginal,fullSentCorpusTypos)\n",
    "print('Готово.')\n",
    "ps = [operationProbs[k] for k in operationProbs.keys()]\n",
    "assert max(ps) < 0.2, \"Не би следвало  да има елементарна операция с толкова голяма вероятност.\"\n",
    "assert min(ps) > 0, \"Използвайте изглаждане.\"\n",
    "id_prob = 0\n",
    "for k in operationProbs.keys():\n",
    "    if k[0]==k[1]:\n",
    "        id_prob += operationProbs[k]\n",
    "assert id_prob > 0.95, \"Би следвало операцията идентитет да има най-голяма вероятност.\"\n",
    "print(\"Функцията computeOperationProbs премина теста.\")"
   ]
  },
  {
   "cell_type": "code",
   "execution_count": 67,
   "id": "3b1825b7",
   "metadata": {},
   "outputs": [
    {
     "name": "stdout",
     "output_type": "stream",
     "text": [
      "Запис на вероятностите във файл probabilities.pkl ...\n",
      "Готово.\n"
     ]
    }
   ],
   "source": [
    "print(\"Запис на вероятностите във файл probabilities.pkl ...\")\n",
    "opfile = open(\"probabilities.pkl\", \"wb\")\n",
    "pickle.dump(operationProbs, opfile)\n",
    "opfile.close()\n",
    "print('Готово.')"
   ]
  },
  {
   "cell_type": "code",
   "execution_count": 66,
   "id": "1b0e1ea1",
   "metadata": {
    "scrolled": true
   },
   "outputs": [
    {
     "name": "stdout",
     "output_type": "stream",
     "text": [
      "Функцията editWeight премина теста.\n"
     ]
    }
   ],
   "source": [
    "for s1,s2,d in zip(L1,L2,D):\n",
    "    assert abs(editWeight(s1,s2,operationProbs) - d) < 1 , \"Теглото между '{}' и '{}' следва да е приблизително '{}'\".format(s1,s2,d)\n",
    "print(\"Функцията editWeight премина теста.\")"
   ]
  },
  {
   "cell_type": "code",
   "execution_count": 27,
   "id": "c897bde4",
   "metadata": {},
   "outputs": [
    {
     "data": {
      "text/plain": [
       "['заявката', 'заявката', 'заявката', 'заявката', 'заявката', 'заявката']"
      ]
     },
     "execution_count": 27,
     "metadata": {},
     "output_type": "execute_result"
    }
   ],
   "source": [
    "L1"
   ]
  },
  {
   "cell_type": "code",
   "execution_count": 28,
   "id": "4d1a82da",
   "metadata": {},
   "outputs": [
    {
     "data": {
      "text/plain": [
       "['заявката', 'заявьата', 'завякатва', 'заявкатаа', 'вя', 'язвката']"
      ]
     },
     "execution_count": 28,
     "metadata": {},
     "output_type": "execute_result"
    }
   ],
   "source": [
    "L2"
   ]
  },
  {
   "cell_type": "code",
   "execution_count": 29,
   "id": "51e2932a",
   "metadata": {},
   "outputs": [
    {
     "data": {
      "text/plain": [
       "[22.75, 32.06, 35.93, 32.02, 62.03, 43.71]"
      ]
     },
     "execution_count": 29,
     "metadata": {},
     "output_type": "execute_result"
    }
   ],
   "source": [
    "D"
   ]
  },
  {
   "cell_type": "code",
   "execution_count": 37,
   "id": "e0bd0edf",
   "metadata": {},
   "outputs": [
    {
     "data": {
      "text/plain": [
       "1"
      ]
     },
     "execution_count": 37,
     "metadata": {},
     "output_type": "execute_result"
    }
   ],
   "source": [
    "editDistance('asd','asd')"
   ]
  },
  {
   "cell_type": "code",
   "execution_count": 177,
   "id": "190c1559",
   "metadata": {},
   "outputs": [
    {
     "name": "stdout",
     "output_type": "stream",
     "text": [
      "Функцията generateEdits премина теста.\n"
     ]
    }
   ],
   "source": [
    "assert len(set(generateEdits(\"тест\"))) == 269, \"Броят на елементарните редакции \\\"тест\\\"  следва да е 269\"\n",
    "print(\"Функцията generateEdits премина теста.\")"
   ]
  },
  {
   "cell_type": "code",
   "execution_count": 178,
   "id": "df1a4a2a",
   "metadata": {},
   "outputs": [
    {
     "name": "stdout",
     "output_type": "stream",
     "text": [
      "Функцията generateCandidates премина теста.\n"
     ]
    }
   ],
   "source": [
    "dictionary = extractDictionary(fullSentCorpusOriginal)\n",
    "#### Тест на generate_candidates\n",
    "assert len(set(generateCandidates(\"такяива\",dictionary,operationProbs))) == 4, \"Броят на генерираните кандидати следва да е 4\"\n",
    "print(\"Функцията generateCandidates премина теста.\")"
   ]
  },
  {
   "cell_type": "code",
   "execution_count": 179,
   "id": "9734888a",
   "metadata": {},
   "outputs": [
    {
     "data": {
      "text/plain": [
       "[('такава', 1.2102636098861694),\n",
       " ('такива', 0.0),\n",
       " ('такова', 0.0),\n",
       " ('тактика', 0.0)]"
      ]
     },
     "execution_count": 179,
     "metadata": {},
     "output_type": "execute_result"
    }
   ],
   "source": [
    "generateCandidates(\"такяива\",dictionary,operationProbs)"
   ]
  },
  {
   "cell_type": "code",
   "execution_count": null,
   "id": "25bcf6d9",
   "metadata": {},
   "outputs": [],
   "source": [
    "#### Тест на correct_spelling\n",
    "corr = correctSpelling(fullSentCorpusTypos[3668:3669],dictionary,operationProbs)\n",
    "assert ' '.join(corr[0]) == 'третата група ( нареченската ) бе ударила на камък : поради курортния характер на селото пръчовете от наречен били още миналата година премахнати , защото замърсявали околната среда със силната си миризма и създавали у чужденците впечатление за първобитност .', \"Коригираната заявка следва да е 'третата група ( нареченската ) бе ударила на камък : поради курортния характер на селото пръчовете от наречен били още миналата година премахнати , защото замърсявали околната среда със силната си миризма и създавали у чужденците впечатление за първобитност .'.\"\n",
    "print(\"Функцията correctSpelling премина теста.\")"
   ]
  },
  {
   "cell_type": "code",
   "execution_count": null,
   "id": "1ea59e46",
   "metadata": {},
   "outputs": [],
   "source": [
    "correct = PlaintextCorpusReader(corpus_root, 'corpus_correct.txt')\n",
    "fullSentCorpusCorrect = [[w.lower() for w in sent] for sent in correct.sents()]\n",
    "corpus_corrected = correctSpelling(fullSentCorpusCorrect,dictionary,operationProbs)\n",
    "corpus_corrected = '\\n'.join(' '.join(s) for s in corpus_corrected)\n",
    "with open('corrected.txt', 'w') as f:\n",
    "    f.write(corpus_corrected)"
   ]
  }
 ],
 "metadata": {
  "kernelspec": {
   "display_name": "Python 3 (ipykernel)",
   "language": "python",
   "name": "python3"
  },
  "language_info": {
   "codemirror_mode": {
    "name": "ipython",
    "version": 3
   },
   "file_extension": ".py",
   "mimetype": "text/x-python",
   "name": "python",
   "nbconvert_exporter": "python",
   "pygments_lexer": "ipython3",
   "version": "3.7.11"
  }
 },
 "nbformat": 4,
 "nbformat_minor": 5
}
