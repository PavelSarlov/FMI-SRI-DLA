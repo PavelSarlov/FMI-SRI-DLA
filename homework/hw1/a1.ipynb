{
 "cells": [
  {
   "cell_type": "code",
   "execution_count": 77,
   "id": "a8046ece",
   "metadata": {},
   "outputs": [],
   "source": [
    "#############################################################################\n",
    "### Търсене и извличане на информация. Приложение на дълбоко машинно обучение\n",
    "### Стоян Михов\n",
    "### Зимен семестър 2021/2022\n",
    "#############################################################################\n",
    "\n",
    "### Домашно задание 1\n",
    "###\n",
    "### Преди да се стартира програмата е необходимо да се активира съответното обкръжение с командата:\n",
    "### conda activate tii\n",
    "###\n",
    "### Ако все още нямате създадено обкръжение прочетете файла README.txt за инструкции\n",
    "\n",
    "\n",
    "########################################\n",
    "import numpy as np\n",
    "import random\n",
    "\n",
    "alphabet = ['а', 'б', 'в', 'г', 'д', 'е', 'ж', 'з', 'и', 'й', 'к', 'л', 'м', 'н', 'о', 'п', 'р', 'с', 'т', 'у', 'ф', 'х', 'ц', 'ч', 'ш', 'щ', 'ъ', 'ь', 'ю', 'я']\n",
    "\n",
    "def extractDictionary(corpus):\n",
    "    dictionary = set()\n",
    "    for doc in corpus:\n",
    "        for w in doc:\n",
    "            if w not in dictionary: dictionary.add(w)\n",
    "    return dictionary\n",
    "\n",
    "def editDistance(s1, s2):\n",
    "    #### функцията намира разстоянието на Левенщайн-Дамерау между два низа\n",
    "    #### вход: низовете s1 и s2\n",
    "    #### изход: минималният брой на елементарните операции ( вмъкване, изтриване, субституция и транспоциция на символи) необходими, за да се получи от единия низ другия\n",
    "\n",
    "    #############################################################################\n",
    "    #### Начало на Вашия код. На мястото на pass се очакват 10-25 реда\n",
    "\n",
    "    distMatrix = np.zeros((len(s1)+1,len(s2)+1), dtype=np.uint32)\n",
    "    distMatrix[0] = np.arange(len(s2)+1)\n",
    "    distMatrix[:,0] = np.arange(len(s1)+1)\n",
    "\n",
    "    for i in range(1,len(s1)+1):\n",
    "        for j in range(1,len(s2)+1):\n",
    "            cost = 0 if s1[i-1]==s2[j-1] else 1\n",
    "            distMatrix[i, j] = min(distMatrix[i-1, j-1] + cost,\n",
    "                                distMatrix[i, j-1] + 1,\n",
    "                                distMatrix[i-1, j] + 1)\n",
    "            if i>1 and j>1 and s1[i-1]==s2[j-2] and s1[i-2]==s2[j-1] and s1[i-1]!=s2[j-1]:\n",
    "                distMatrix[i, j] = min(distMatrix[i, j],\n",
    "                                distMatrix[i-2, j-2] + 1)\n",
    "    return distMatrix[-1,-1]\n",
    "\n",
    "    #### Край на Вашия код\n",
    "    #############################################################################\n",
    "    \n",
    "def editOperations(s1, s2):\n",
    "    #### функцията намира елементарни редакции, неободими за получаването на един низ от друг\n",
    "    #### вход: низовете s1 и s2\n",
    "    #### изход: списък с елементарните редакции ( идентитет, вмъкване, изтриване, субституция и транспоциция на символи) необходими, за да се получи втория низ от първия\n",
    "    \n",
    "    #### Например: editOperations('котка', 'октава') би следвало да връща списъка:\n",
    "    ####    [('ко', 'ок'), ('т','т'), ('', 'а'), ('к', 'в'), ('а','а')]\n",
    "    ####        |ко   |т |   |к  |а |\n",
    "    ####        |ок   |т |а  |в  |а |\n",
    "    ####        |Trans|Id|Ins|Sub|Id|\n",
    "    ####\n",
    "    #### Можете да преизползвате и модифицирате кода на функцията editDistance\n",
    "    #############################################################################\n",
    "    #### Начало на Вашия код.\n",
    "\n",
    "    cellType = [('0', np.uint32, 3),('1','U2',2)]\n",
    "    distMatrix = np.empty((len(s1)+1,len(s2)+1), dtype=cellType)\n",
    "    distMatrix[0] = np.array([([x,0,max(x-1,0)],['',s2[x-1] if x>0 else '']) for x in range(len(s2)+1)], dtype=cellType)\n",
    "    distMatrix[:,0] = np.array([([x,max(x-1,0),0],[s1[x-1] if x>0 else '','']) for x in range(len(s1)+1)], dtype=cellType)\n",
    "\n",
    "    for i in range(1,len(s1)+1):\n",
    "        for j in range(1,len(s2)+1):\n",
    "            cost = 0 if s1[i-1]==s2[j-1] else 1\n",
    "            distMatrix[i, j] = min(([distMatrix[i-1, j-1][0][0] + cost, i-1, j-1], [s1[i-1], s2[j-1]]),\n",
    "                                ([distMatrix[i, j-1][0][0] + 1, i, j-1], ['', s2[j-1]]),\n",
    "                                ([distMatrix[i-1, j][0][0] + 1, i-1, j], [s1[i-1], '']),\n",
    "                                key = lambda x: x[0][0])\n",
    "            if i>1 and j>1 and s1[i-1]==s2[j-2] and s1[i-2]==s2[j-1] and s1[i-1]!=s2[j-1]:\n",
    "                distMatrix[i, j] = min(distMatrix[i, j],\n",
    "                                ([distMatrix[i-2, j-2][0][0] + 1, i-2, j-2], [s1[i-2:i], s2[j-2:j]]),\n",
    "                                key = lambda x: x[0][0])\n",
    "\n",
    "    result = np.empty(0, dtype=[('0','U2'),('1','U2')])\n",
    "    cell = [np.size(distMatrix,0)-1, np.size(distMatrix,1)-1]\n",
    "    while any(cell):\n",
    "        result = np.insert(result, 0, tuple(distMatrix[cell[0], cell[1]][1]))\n",
    "        cell = distMatrix[cell[0],cell[1]][0][1:]\n",
    "    return result.tolist()\n",
    "\n",
    "    #### Край на Вашия код\n",
    "    #############################################################################\n",
    "\n",
    "def computeOperationProbs(corrected_corpus,uncorrected_corpus,smoothing = 0.2):\n",
    "    #### Функцията computeOperationProbs изчислява теглата на дадени елементарни операции (редакции)\n",
    "    #### Теглото зависи от конкретните символи. Използвайки корпусите, извлечете статистика. Използвайте принципа за максимално правдоподобие. Използвайте изглаждане. \n",
    "    #### Вход: Корпус без грешки, Корпус с грешки, параметър за изглаждане. С цел простота може да се счете, че j-тата дума в i-тото изречение на корпуса с грешки е на разстояние не повече от 2 (по Левенщайн-Дамерау) от  j-тата дума в i-тото изречение на корпуса без грешки.\n",
    "    #### Следва да се използват функциите generateCandidates, editOperations, \n",
    "    #### Помислете как ще изберете кандидат за поправка измежду всички възможни.\n",
    "    #### Важно! При изтриване и вмъкване се предполага, че празния низ е представен с ''\n",
    "    #### Изход: Речник, който по зададена наредена двойка от низове връща теглото за операцията.\n",
    "    \n",
    "    #### Първоначално ще трябва да преброите и запишете в речника operations броя на редакциите от всеки вид нужни, за да се поправи корпуса с грешки. След това изчислете съответните вероятности.\n",
    "    \n",
    "    operations = {} # Брой срещания за всяка елементарна операция + изглаждане\n",
    "    operationsProb = {} # Емпирична вероятност за всяка елементарна операция\n",
    "    for c in alphabet:\n",
    "        operations[(c,'')] = smoothing    # deletions\n",
    "        operations[('',c)] = smoothing    # insertions\n",
    "        for s in alphabet:\n",
    "            operations[(c,s)] = smoothing    # substitution and identity\n",
    "            if c == s:    \n",
    "                continue\n",
    "            operations[(c+s,s+c)] = smoothing    # transposition\n",
    "\n",
    "    #############################################################################\n",
    "    #### Начало на Вашия код.\n",
    "\n",
    "    for i in range(len(corrected_corpus)):\n",
    "        for j in range(len(corrected_corpus[i])):\n",
    "            for op in editOperations(corrected_corpus[i][j], uncorrected_corpus[i][j]):\n",
    "                if op in operations:\n",
    "                    operations[op] += 1\n",
    "\n",
    "    operationsCorpus = sum(int(o) for o in operations.values())\n",
    "    for op,val in operations.items():\n",
    "        operationsProb[op] = val/(smoothing*len(operations)+operationsCorpus)\n",
    "    \n",
    "    #### Край на Вашия код.\n",
    "    #############################################################################\n",
    "    return operationsProb\n",
    "\n",
    "def operationWeight(a,b,operationProbs):\n",
    "    #### Функцията operationWeight връща теглото на дадена елементарна операция\n",
    "    #### Вход: Двата низа a,b, определящи операцията.\n",
    "    ####       Речник с вероятностите на елементарните операции.\n",
    "    #### Важно! При изтриване и вмъкване се предполага, че празния низ е представен с ''\n",
    "    #### изход: Теглото за операцията\n",
    "    \n",
    "    if (a,b) in operationProbs.keys():\n",
    "        return -np.log(operationProbs[(a,b)])\n",
    "    else:\n",
    "        print(\"Wrong parameters ({},{}) of operationWeight call encountered!\".format(a,b))\n",
    "\n",
    "def editWeight(s1, s2, operationProbs):\n",
    "    #### функцията editWeight намира теглото между два низа\n",
    "    #### За намиране на елеметарните тегла следва да се извиква функцията operationWeight\n",
    "    #### вход: низовете s1 и s2 и речник с вероятностите на елементарните операции.\n",
    "    #### изход: минималното тегло за подравняване, за да се получи втория низ от първия низ\n",
    "    \n",
    "    #############################################################################\n",
    "    #### Начало на Вашия код. На мястото на pass се очакват 10-25 реда\n",
    "\n",
    "    distMatrix = np.zeros((len(s1)+1,len(s2)+1))\n",
    "    if np.size(distMatrix, 1) > 1:\n",
    "        distMatrix[0, 1:] = np.array([operationWeight('', x, operationProbs) for x in s2])\n",
    "        for i in range(2, np.size(distMatrix,1)):\n",
    "            distMatrix[0, i] += distMatrix[0, i-1]\n",
    "    if np.size(distMatrix, 0) > 1:\n",
    "        distMatrix[1:, 0] = np.array([operationWeight(x, '', operationProbs) for x in s1])\n",
    "        for i in range(2, np.size(distMatrix,0)):\n",
    "            distMatrix[i, 0] += distMatrix[i-1, 0]\n",
    "\n",
    "    for i in range(1,len(s1)+1):\n",
    "        for j in range(1,len(s2)+1):\n",
    "            distMatrix[i, j] = min(distMatrix[i-1, j-1] + operationWeight(s1[i-1], s2[j-1], operationProbs),\n",
    "                                distMatrix[i, j-1] + operationWeight('', s2[j-1], operationProbs),\n",
    "                                distMatrix[i-1, j] + operationWeight(s1[i-1], '', operationProbs))\n",
    "            if i>1 and j>1 and s1[i-1]==s2[j-2] and s1[i-2]==s2[j-1] and s1[i-1]!=s2[j-1]:\n",
    "                distMatrix[i, j] = min(distMatrix[i, j],\n",
    "                                distMatrix[i-2, j-2] + operationWeight(s1[i-2:i], s2[j-2:j], operationProbs))\n",
    "    return distMatrix[-1,-1]\n",
    "\n",
    "    #### Край на Вашия код. \n",
    "    #############################################################################\n",
    "\n",
    "def generateEdits(q):\n",
    "    ### помощната функция, generateEdits по зададена заявка генерира всички възможни редакции на разстояние едно от тази заявка.\n",
    "    ### Вход: заявка като низ q\n",
    "    ### Изход: Списък от низове на разстояние 1 по Левенщайн-Дамерау от заявката\n",
    "    ###\n",
    "    ### В тази функция вероятно ще трябва да използвате азбука, която е дефинирана с alphabet\n",
    "    ###\n",
    "    #############################################################################\n",
    "    #### Начало на Вашия код. На мястото на pass се очакват 10-15 реда\n",
    "\n",
    "#     result = np.empty(0, dtype='U{}'.format(len(q)+1))\n",
    "#     for i in range(len(q)+1):\n",
    "#         result = np.append(result, q[:i] + q[i+1:])\n",
    "#         result = np.append(result, q[:i] + q[i:i+2][::-1] + q[i+2:])\n",
    "#         result = np.append(result, [[q[:i] + c + q[i:], q[:i] + c + q[i+1:]] for c in alphabet])\n",
    "#     return np.unique(np.delete(result, np.where(result == q))).tolist()\n",
    "\n",
    "    result = []\n",
    "    for i in range(len(q)+1):\n",
    "        result.append(q[:i] + q[i+1:]) # deletions\n",
    "        result.append(q[:i] + q[i:i+2][::-1] + q[i+2:]) # transpositions\n",
    "        for c in alphabet:\n",
    "            result.append(q[:i] + c + q[i:]) # insertions\n",
    "            result.append(q[:i] + c + q[i+1:]) # substitutions\n",
    "    result = set(result)\n",
    "    result.remove(q)\n",
    "    return list(result)\n",
    "        \n",
    "    #### Край на Вашия код\n",
    "    #############################################################################\n",
    "\n",
    "\n",
    "def generateCandidates(query,dictionary,operationProbs):\n",
    "    ### Започва от заявката query и генерира всички низове НА РАЗСТОЯНИЕ <= 2, за да се получат кандидатите за корекция. Връщат се единствено кандидати, които са в речника dictionary.\n",
    "        \n",
    "    ### Вход:\n",
    "    ###     Входен низ query\n",
    "    ###     Речник с допустими (правилни) думи: dictionary\n",
    "    ###     речник с вероятностите на елементарните операции.\n",
    "\n",
    "    ### Изход:\n",
    "    ###     Списък от двойки (candidate, candidate_edit_log_probability), където candidate е низ на кандидат, а candidate_edit_log_probability е логаритъм от вероятността за редакция -- минус теглото.\n",
    "    \n",
    "    #############################################################################\n",
    "    #### Начало на Вашия код. На мястото на pass се очакват 10-15 реда\n",
    "\n",
    "    allCandidates = np.array([query], dtype='U{}'.format(len(query)+2))\n",
    "    maxDist = 2\n",
    "    for i in range(maxDist):\n",
    "        temp = np.empty(0, dtype='U{}'.format(len(query)+2))\n",
    "        for q in allCandidates:\n",
    "            temp = np.append(temp, generateEdits(q))\n",
    "        allCandidates = np.append(np.delete(allCandidates, allCandidates==query), temp)\n",
    "        \n",
    "    result = np.empty(0, dtype=[('0', 'U{}'.format(len(query)+2)),('1','f4')])\n",
    "    for candidate in allCandidates:\n",
    "        if candidate in dictionary:\n",
    "            candidate_edit_log_prob = editWeight(candidate, query, operationProbs) #abs(sum(np.log(operationProbs[op]) for op in editOperations(candidate, query)) + editWeight(candidate, query, operationProbs))\n",
    "            result = np.append(result, np.array([(candidate, candidate_edit_log_prob)], dtype = [('0', 'U{}'.format(len(query)+2)),('1','f4')]))\n",
    "            \n",
    "    return np.unique(result).tolist()\n",
    "\n",
    "    #### Край на Вашия код\n",
    "    #############################################################################\n",
    "\n",
    "def correctSpelling(r, dictionary, operationProbs):\n",
    "    ### Функцията поправя корпус съдържащ евентуално сгрешени думи\n",
    "    ### Генераторът на кандидати връща и вероятността за редактиране.\n",
    "    ###\n",
    "    ### Вход:\n",
    "    ###    заявка: r - корпус от думи\n",
    "    ###    речник с правилни думи: dictionary,\n",
    "    ###    речник с вероятностите на елементарните операции: operationProbs\n",
    "    ###    Изход: поправен корпус\n",
    "\n",
    "    #############################################################################\n",
    "    #### Начало на Вашия код. На мястото на pass се очакват 5-15 реда\n",
    "\n",
    "    corrected = []\n",
    "    for i,s in enumerate(r):\n",
    "        corrected.append([])\n",
    "        for j,w in enumerate(s):\n",
    "            if any(map(lambda x: x not in alphabet, w)) or w in dictionary:\n",
    "                corrected[i].append(w)\n",
    "                continue\n",
    "            candidates = generateCandidates(w, dictionary, operationProbs)\n",
    "            corrected[i].append(min(candidates, key=lambda x: x[1])[0] if candidates else r[i][j])\n",
    "    return corrected\n",
    "\n",
    "    #### Край на Вашия код\n",
    "    #############################################################################\n"
   ]
  },
  {
   "cell_type": "code",
   "execution_count": 2,
   "id": "454f1f86",
   "metadata": {},
   "outputs": [
    {
     "name": "stderr",
     "output_type": "stream",
     "text": [
      "[nltk_data] Downloading package punkt to /home/psarlov/nltk_data...\n",
      "[nltk_data]   Package punkt is already up-to-date!\n"
     ]
    }
   ],
   "source": [
    "import a1 as a1\n",
    "import nltk\n",
    "nltk.download('punkt')\n",
    "from nltk.corpus import PlaintextCorpusReader\n",
    "import pickle"
   ]
  },
  {
   "cell_type": "code",
   "execution_count": 3,
   "id": "3d2efcce",
   "metadata": {},
   "outputs": [],
   "source": [
    "L1 = ['заявката','заявката','заявката','заявката','заявката','заявката']\n",
    "L2 = ['заявката','заявьата','завякатва','заявкатаа','вя','язвката']\n",
    "C = [0,1,2,1,7,3]\n",
    "O = [[('з', 'з'),  ('а', 'а'),  ('я', 'я'),  ('в', 'в'),  ('к', 'к'),  ('а', 'а'),  ('т', 'т'),  ('а', 'а')],\n",
    "     [('з', 'з'),  ('а', 'а'),  ('я', 'я'),  ('в', 'в'),  ('к', 'ь'),  ('а', 'а'),  ('т', 'т'),  ('а', 'а')],\n",
    "     [('з', 'з'),  ('а', 'а'),  ('яв', 'вя'),  ('к', 'к'),  ('а', 'а'),  ('т', 'т'),  ('', 'в'),  ('а', 'а')],\n",
    "     [('з', 'з'),  ('а', 'а'),  ('я', 'я'),  ('в', 'в'),  ('к', 'к'),  ('а', 'а'),  ('т', 'т'),  ('', 'а'),  ('а', 'а')],\n",
    "     [('з', ''), ('а', ''), ('я', ''), ('в', 'в'), ('к', ''), ('а', ''), ('т', ''), ('а', 'я')],\n",
    "     [('з', ''), ('а', 'я'), ('я', 'з'), ('в', 'в'),  ('к', 'к'),  ('а', 'а'),  ('т', 'т'),  ('а', 'а')]]\n",
    "D = [22.75, 32.06, 35.93, 32.02, 62.03, 43.71]"
   ]
  },
  {
   "cell_type": "code",
   "execution_count": 4,
   "id": "52a52714",
   "metadata": {},
   "outputs": [
    {
     "name": "stdout",
     "output_type": "stream",
     "text": [
      "Функцията editDistance премина теста.\n"
     ]
    }
   ],
   "source": [
    "for s1,s2,d in zip(L1,L2,C):\n",
    "    assert editDistance(s1,s2) == d, \"Разстоянието между '{}' и '{}' следва да е '{}'\".format(s1,s2,d)\n",
    "print(\"Функцията editDistance премина теста.\")"
   ]
  },
  {
   "cell_type": "code",
   "execution_count": 5,
   "id": "68d29648",
   "metadata": {},
   "outputs": [
    {
     "name": "stdout",
     "output_type": "stream",
     "text": [
      "Функцията editOperations премина теста.\n"
     ]
    }
   ],
   "source": [
    "for s1,s2,o in zip(L1,L2,O):\n",
    "    assert editOperations(s1,s2) == o, \"Операциите редактиращи '{}' до '{}' следва да са '{}'\".format(s1,s2,o)\n",
    "print(\"Функцията editOperations премина теста.\")"
   ]
  },
  {
   "cell_type": "code",
   "execution_count": 6,
   "id": "d80bc869",
   "metadata": {},
   "outputs": [
    {
     "name": "stdout",
     "output_type": "stream",
     "text": [
      "Прочитане на корпуса от текстове...\n",
      "Готово.\n"
     ]
    }
   ],
   "source": [
    "print('Прочитане на корпуса от текстове...')\n",
    "corpus_root = '.'\n",
    "original = PlaintextCorpusReader(corpus_root, 'corpus_original.txt')\n",
    "fullSentCorpusOriginal = [[w.lower() for w in sent] for sent in original.sents()]\n",
    "typos = PlaintextCorpusReader(corpus_root, 'corpus_typos.txt')\n",
    "fullSentCorpusTypos = [[w.lower() for w in sent] for sent in typos.sents()]\n",
    "print('Готово.')"
   ]
  },
  {
   "cell_type": "code",
   "execution_count": 7,
   "id": "9d802cc9",
   "metadata": {},
   "outputs": [
    {
     "name": "stdout",
     "output_type": "stream",
     "text": [
      "Пресмятане вероятностите на елементарните операции...\n",
      "Готово.\n",
      "Функцията computeOperationProbs премина теста.\n",
      "72.54115843772888\n"
     ]
    }
   ],
   "source": [
    "import time\n",
    "start = time.time()\n",
    "print('Пресмятане вероятностите на елементарните операции...')\n",
    "operationProbs = computeOperationProbs(fullSentCorpusOriginal,fullSentCorpusTypos)\n",
    "print('Готово.')\n",
    "ps = [operationProbs[k] for k in operationProbs.keys()]\n",
    "assert max(ps) < 0.2, \"Не би следвало  да има елементарна операция с толкова голяма вероятност.\"\n",
    "assert min(ps) > 0, \"Използвайте изглаждане.\"\n",
    "id_prob = 0\n",
    "for k in operationProbs.keys():\n",
    "    if k[0]==k[1]:\n",
    "        id_prob += operationProbs[k]\n",
    "assert id_prob > 0.95, \"Би следвало операцията идентитет да има най-голяма вероятност.\"\n",
    "print(\"Функцията computeOperationProbs премина теста.\")\n",
    "end = time.time()\n",
    "print(end-start)"
   ]
  },
  {
   "cell_type": "code",
   "execution_count": 8,
   "id": "e497bbb2",
   "metadata": {},
   "outputs": [
    {
     "data": {
      "text/plain": [
       "0.9855009376341495"
      ]
     },
     "execution_count": 8,
     "metadata": {},
     "output_type": "execute_result"
    }
   ],
   "source": [
    "id_prob"
   ]
  },
  {
   "cell_type": "code",
   "execution_count": 9,
   "id": "3b1825b7",
   "metadata": {
    "scrolled": true
   },
   "outputs": [
    {
     "name": "stdout",
     "output_type": "stream",
     "text": [
      "Запис на вероятностите във файл probabilities.pkl ...\n",
      "Готово.\n"
     ]
    }
   ],
   "source": [
    "print(\"Запис на вероятностите във файл probabilities.pkl ...\")\n",
    "opfile = open(\"probabilities.pkl\", \"wb\")\n",
    "pickle.dump(operationProbs, opfile)\n",
    "opfile.close()\n",
    "print('Готово.')"
   ]
  },
  {
   "cell_type": "code",
   "execution_count": 10,
   "id": "1b0e1ea1",
   "metadata": {
    "scrolled": true
   },
   "outputs": [
    {
     "name": "stdout",
     "output_type": "stream",
     "text": [
      "22.75 22.74648836787877\n",
      "32.06 32.15199173375289\n",
      "35.93 35.95728125951019\n",
      "32.02 32.022027714067235\n",
      "62.03 62.06029433333477\n",
      "43.71 43.719280741425045\n",
      "Функцията editWeight премина теста.\n"
     ]
    }
   ],
   "source": [
    "for s1,s2,d in zip(L1,L2,D):\n",
    "    print(d, editWeight(s1,s2,operationProbs))\n",
    "    assert abs(editWeight(s1,s2,operationProbs) - d) < 1 , \"Теглото между '{}' и '{}' следва да е приблизително '{}'\".format(s1,s2,d)\n",
    "print(\"Функцията editWeight премина теста.\")"
   ]
  },
  {
   "cell_type": "code",
   "execution_count": 78,
   "id": "190c1559",
   "metadata": {},
   "outputs": [
    {
     "name": "stdout",
     "output_type": "stream",
     "text": [
      "Функцията generateEdits премина теста.\n"
     ]
    }
   ],
   "source": [
    "assert len(set(generateEdits(\"тест\"))) == 269, \"Броят на елементарните редакции \\\"тест\\\"  следва да е 269\"\n",
    "print(\"Функцията generateEdits премина теста.\")"
   ]
  },
  {
   "cell_type": "code",
   "execution_count": 73,
   "id": "c1b231b0",
   "metadata": {},
   "outputs": [
    {
     "name": "stdout",
     "output_type": "stream",
     "text": [
      "0.010230064392089844\n"
     ]
    }
   ],
   "source": [
    "import time\n",
    "start = time.time()\n",
    "len(generateEdits(\"товаемногодългадумаааааааааааааааааааааааааааааааааа\"))\n",
    "end = time.time()\n",
    "print(end-start)"
   ]
  },
  {
   "cell_type": "code",
   "execution_count": 17,
   "id": "df1a4a2a",
   "metadata": {},
   "outputs": [
    {
     "name": "stdout",
     "output_type": "stream",
     "text": [
      "Функцията generateCandidates премина теста.\n"
     ]
    }
   ],
   "source": [
    "dictionary = extractDictionary(fullSentCorpusOriginal)\n",
    "#### Тест на generate_candidates\n",
    "assert len(set(generateCandidates(\"такяива\",dictionary,operationProbs))) == 4, \"Броят на генерираните кандидати следва да е 4\"\n",
    "print(\"Функцията generateCandidates премина теста.\")"
   ]
  },
  {
   "cell_type": "code",
   "execution_count": 79,
   "id": "9734888a",
   "metadata": {
    "scrolled": true
   },
   "outputs": [
    {
     "data": {
      "text/plain": [
       "[('на', 14.067445755004883),\n",
       " ('ва', 14.416622161865234),\n",
       " ('нова', 16.40955352783203),\n",
       " ('нива', 16.45205307006836),\n",
       " ('два', 17.35114288330078),\n",
       " ('сва', 17.72583770751953),\n",
       " ('ав', 18.995677947998047),\n",
       " ('а', 20.50920867919922),\n",
       " ('нрав', 21.009632110595703),\n",
       " ('нави', 21.031108856201172),\n",
       " ('н', 21.370433807373047),\n",
       " ('в', 21.7196102142334),\n",
       " ('ана', 21.931293487548828),\n",
       " ('ра', 22.28449249267578),\n",
       " ('та', 22.712587356567383),\n",
       " ('ла', 22.782331466674805),\n",
       " ('вар', 22.872339248657227),\n",
       " ('ван', 23.03335952758789),\n",
       " ('явна', 23.241352081298828),\n",
       " ('са', 23.251583099365234),\n",
       " ('да', 23.443729400634766),\n",
       " ('над', 23.49928092956543),\n",
       " ('нов', 23.712541580200195),\n",
       " ('нас', 23.730920791625977),\n",
       " ('за', 23.818422317504883),\n",
       " ('ов', 23.84320068359375),\n",
       " ('не', 23.852130889892578),\n",
       " ('ма', 23.898210525512695),\n",
       " ('лв', 23.992733001708984),\n",
       " ('вас', 24.080095291137695),\n",
       " ('нам', 24.099170684814453),\n",
       " ('нрава', 24.294424057006836),\n",
       " ('ба', 24.424558639526367),\n",
       " ('га', 24.424558639526367),\n",
       " ('па', 24.424558639526367),\n",
       " ('ча', 24.424558639526367),\n",
       " ('ща', 24.424558639526367),\n",
       " ('вам', 24.448347091674805),\n",
       " ('наш', 24.4676570892334),\n",
       " ('ха', 24.50434684753418),\n",
       " ('рева', 24.57919692993164),\n",
       " ('наса', 24.673667907714844),\n",
       " ('ааа', 24.706125259399414),\n",
       " ('ни', 24.712331771850586),\n",
       " ('но', 24.712331771850586),\n",
       " ('онова', 24.84424591064453),\n",
       " ('това', 24.851131439208984),\n",
       " ('ви', 25.061508178710938),\n",
       " ('лева', 25.077035903930664),\n",
       " ('лова', 25.12443733215332),\n",
       " ('най', 25.15095329284668),\n",
       " ('нах', 25.15095329284668),\n",
       " ('дава', 25.214990615844727),\n",
       " ('носа', 25.24451446533203),\n",
       " ('иван', 25.306482315063477),\n",
       " ('вай', 25.5001277923584),\n",
       " ('иса', 25.52470588684082),\n",
       " ('едва', 25.623743057250977),\n",
       " ('ву', 25.667644500732422),\n",
       " ('ела', 25.673494338989258),\n",
       " ('дива', 25.828336715698242),\n",
       " ('идва', 25.828336715698242),\n",
       " ('нема', 25.843738555908203),\n",
       " ('лъва', 25.9029598236084),\n",
       " ('нима', 25.933639526367188),\n",
       " ('ада', 26.021800994873047),\n",
       " ('ала', 26.021800994873047),\n",
       " ('ама', 26.021800994873047),\n",
       " ('ора', 26.021800994873047),\n",
       " ('ида', 26.17133331298828),\n",
       " ('има', 26.17133331298828),\n",
       " ('шава', 26.195819854736328),\n",
       " ('сива', 26.20302963256836),\n",
       " ('жа', 26.216318130493164),\n",
       " ('гнева', 26.36020278930664),\n",
       " ('лява', 26.377201080322266),\n",
       " ('нула', 26.46542739868164),\n",
       " ('наша', 26.540983200073242),\n",
       " ('овча', 26.57193946838379),\n",
       " ('нека', 26.59684944152832),\n",
       " ('аха', 26.62793731689453),\n",
       " ('иха', 26.777469635009766),\n",
       " ('бива', 26.809165954589844),\n",
       " ('нови', 27.054439544677734),\n",
       " ('ново', 27.054439544677734),\n",
       " ('жива', 27.089956283569336),\n",
       " ('ниви', 27.09693717956543),\n",
       " ('две', 27.135828018188477),\n",
       " ('няма', 27.143903732299805),\n",
       " ('тува', 27.145782470703125),\n",
       " ('тча', 27.166933059692383),\n",
       " ('ние', 27.241132736206055),\n",
       " ('ввв', 27.349401473999023),\n",
       " ('язва', 27.413293838500977),\n",
       " ('нога', 27.454500198364258),\n",
       " ('низ', 27.4547061920166),\n",
       " ('све', 27.510520935058594),\n",
       " ('нос', 27.726640701293945),\n",
       " ('овца', 27.726903915405273),\n",
       " ('дваж', 27.75135612487793),\n",
       " ('яла', 27.813560485839844),\n",
       " ('яра', 27.813560485839844),\n",
       " ('ножа', 27.856658935546875),\n",
       " ('ега', 28.07139015197754),\n",
       " ('еша', 28.07139015197754),\n",
       " ('нег', 28.101333618164062),\n",
       " ('нея', 28.101333618164062),\n",
       " ('неща', 28.14104652404785),\n",
       " ('сви', 28.370723724365234),\n",
       " ('чува', 28.398544311523438),\n",
       " ('ага', 28.419696807861328),\n",
       " ('ока', 28.419696807861328),\n",
       " ('ниш', 28.707469940185547),\n",
       " ('ням', 28.707469940185547),\n",
       " ('яви', 28.976858139038086),\n",
       " ('явя', 28.976858139038086),\n",
       " ('джа', 29.230627059936523),\n",
       " ('мра', 29.60531997680664),\n",
       " ('ума', 29.60531997680664),\n",
       " ('ура', 29.60531997680664),\n",
       " ('уха', 30.211456298828125),\n",
       " ('уча', 30.211456298828125),\n",
       " ('яка', 30.211456298828125),\n",
       " ('ней', 30.499229431152344),\n",
       " ('нож', 30.499229431152344),\n",
       " ('нощ', 30.499229431152344),\n",
       " ('уви', 30.768617630004883),\n",
       " ('цви', 30.768617630004883),\n",
       " ('вина', 31.49386215209961)]"
      ]
     },
     "execution_count": 79,
     "metadata": {},
     "output_type": "execute_result"
    }
   ],
   "source": [
    "sorted(generateCandidates(\"нва\",dictionary,operationProbs), key=lambda x: x[1])"
   ]
  },
  {
   "cell_type": "code",
   "execution_count": 80,
   "id": "25bcf6d9",
   "metadata": {
    "scrolled": true
   },
   "outputs": [
    {
     "name": "stdout",
     "output_type": "stream",
     "text": [
      "Функцията correctSpelling премина теста.\n",
      "10.651591300964355\n"
     ]
    }
   ],
   "source": [
    "#### Тест на correct_spelling\n",
    "import time\n",
    "start = time.time()\n",
    "corr = correctSpelling(fullSentCorpusTypos[3668:3669],dictionary,operationProbs)\n",
    "assert ' '.join(corr[0]) == 'третата група ( нареченската ) бе ударила на камък : поради курортния характер на селото пръчовете от наречен били още миналата година премахнати , защото замърсявали околната среда със силната си миризма и създавали у чужденците впечатление за първобитност .', \"Коригираната заявка следва да е 'третата група ( нареченската ) бе ударила на камък : поради курортния характер на селото пръчовете от наречен били още миналата година премахнати , защото замърсявали околната среда със силната си миризма и създавали у чужденците впечатление за първобитност .'.\"\n",
    "print(\"Функцията correctSpelling премина теста.\")\n",
    "end = time.time()\n",
    "print(end-start)"
   ]
  },
  {
   "cell_type": "code",
   "execution_count": 33,
   "id": "9c38901d",
   "metadata": {},
   "outputs": [
    {
     "data": {
      "text/plain": [
       "'третадта група ( наруеченската ) бе ударила на камък : поради курортния хаарктер на селото пръчовете от наречен били още имналата гоаина премахнати , защоот замърсявали околната среда със силнащта си миризма и съзадвали у чужденците впечатление за първобтиност .'"
      ]
     },
     "execution_count": 33,
     "metadata": {},
     "output_type": "execute_result"
    }
   ],
   "source": [
    "' '.join(fullSentCorpusTypos[3668:3669][0])"
   ]
  },
  {
   "cell_type": "code",
   "execution_count": 38,
   "id": "1cd8e14c",
   "metadata": {
    "scrolled": false
   },
   "outputs": [
    {
     "data": {
      "text/plain": [
       "'третата група ( нареченската ) бе ударила на камък : поради курортния характер на селото пръчовете от наречен били още миналата година премахнати , защото замърсявали околната среда със силната си миризма и създавали у чужденците впечатление за първобитност .'"
      ]
     },
     "execution_count": 38,
     "metadata": {},
     "output_type": "execute_result"
    }
   ],
   "source": [
    "' '.join(corr[0])"
   ]
  },
  {
   "cell_type": "code",
   "execution_count": 39,
   "id": "1ea59e46",
   "metadata": {
    "scrolled": true
   },
   "outputs": [
    {
     "name": "stdout",
     "output_type": "stream",
     "text": [
      "343.6697359085083\n"
     ]
    }
   ],
   "source": [
    "import time\n",
    "start = time.time()\n",
    "correct = PlaintextCorpusReader(corpus_root, 'corpus_correct.txt')\n",
    "fullSentCorpusCorrect = [[w.lower() for w in sent] for sent in correct.sents()]\n",
    "corpus_corrected = correctSpelling(fullSentCorpusCorrect,dictionary,operationProbs)\n",
    "corpus_corrected = '\\n'.join(' '.join(s) for s in corpus_corrected)\n",
    "with open('corrected.txt', 'w') as f:\n",
    "    f.write(corpus_corrected)\n",
    "end = time.time()\n",
    "print(end-start)"
   ]
  }
 ],
 "metadata": {
  "kernelspec": {
   "display_name": "Python 3 (ipykernel)",
   "language": "python",
   "name": "python3"
  },
  "language_info": {
   "codemirror_mode": {
    "name": "ipython",
    "version": 3
   },
   "file_extension": ".py",
   "mimetype": "text/x-python",
   "name": "python",
   "nbconvert_exporter": "python",
   "pygments_lexer": "ipython3",
   "version": "3.7.11"
  }
 },
 "nbformat": 4,
 "nbformat_minor": 5
}
