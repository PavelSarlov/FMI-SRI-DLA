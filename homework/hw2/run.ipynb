{
 "cells": [
  {
   "cell_type": "code",
   "execution_count": 1,
   "id": "1d753a5a",
   "metadata": {},
   "outputs": [],
   "source": [
    "#############################################################################\n",
    "### Търсене и извличане на информация. Приложение на дълбоко машинно обучение\n",
    "### Стоян Михов\n",
    "### Зимен семестър 2021/2022\n",
    "#############################################################################\n",
    "###\n",
    "### Домашно задание 2  -- програма за извикване на обучението\n",
    "###\n",
    "#############################################################################\n",
    "\n",
    "import nltk\n",
    "from nltk.corpus import PlaintextCorpusReader\n",
    "import numpy as np\n",
    "import sys\n",
    "\n",
    "import grads\n",
    "import utils\n",
    "import w2v_sgd\n",
    "import sampling"
   ]
  },
  {
   "cell_type": "code",
   "execution_count": null,
   "id": "912640e3",
   "metadata": {},
   "outputs": [],
   "source": [
    "#############################################################\n",
    "#######   Зареждане на корпуса\n",
    "#############################################################\n",
    "startToken = '<START>'\n",
    "endToken = '<END>'\n",
    "\n",
    "corpus_root = '../../practice/JOURNALISM.BG/C-MassMedia'\n",
    "myCorpus = PlaintextCorpusReader(corpus_root, '.*\\.txt')\n",
    "\n",
    "corpus = [ [startToken] + [w.lower() for w in sent] + [endToken] for sent in myCorpus.sents()]\n",
    "\n",
    "windowSize = 3\n",
    "negativesCount = 5\n",
    "embDim = 50\n",
    "\n",
    "words, word2ind, freqs = utils.extractDictionary(corpus, limit=20000)\n",
    "data = utils.extractWordContextPairs(corpus, windowSize, word2ind)\n",
    "\n",
    "del corpus"
   ]
  },
  {
   "cell_type": "code",
   "execution_count": null,
   "id": "1d2e288e",
   "metadata": {},
   "outputs": [],
   "source": [
    "U0 = (np.random.rand(len(words), embDim) - 0.5) / embDim\n",
    "V0 = (np.random.rand(len(words), embDim) - 0.5) / embDim\n",
    "v0 = (np.random.rand(embDim) - 0.5) / embDim\n",
    "\n",
    "seq = sampling.createSamplingSequence(freqs)\n",
    "contextFunction = lambda c: sampling.sampleContext(c, seq, negativesCount)\n",
    "\n",
    "if len(sys.argv)>1 and sys.argv[1] == 'cumulative':\n",
    "    U,V,v = w2v_sgd.stochasticGradientDescend(data,np.copy(U0),np.copy(V0),np.copy(v0),contextFunction,grads.lossAndGradientCumulative)\n",
    "else:\n",
    "    U,V,v = w2v_sgd.stochasticGradientDescend(data,np.copy(U0),np.copy(V0),np.copy(v0),contextFunction,grads.lossAndGradientBatched)"
   ]
  },
  {
   "cell_type": "code",
   "execution_count": 6,
   "id": "aa516d24",
   "metadata": {},
   "outputs": [],
   "source": [
    "np.save('w2v-U',U)\n",
    "np.save('w2v-V',V)\n",
    "np.save('w2v-vv',v)"
   ]
  },
  {
   "cell_type": "code",
   "execution_count": 8,
   "id": "88a77ad4",
   "metadata": {},
   "outputs": [
    {
     "name": "stdout",
     "output_type": "stream",
     "text": [
      "Running Truncated SVD over 20000 words...\n",
      "Done.\n"
     ]
    },
    {
     "data": {
      "image/png": "[encoded data removed]",
      "text/plain": [
       "<Figure size 432x288 with 1 Axes>"
      ]
     },
     "metadata": {
      "needs_background": "light"
     },
     "output_type": "display_data"
    }
   ],
   "source": [
    "#U = np.load('w2v-U')\n",
    "#V = np.load('w2v-V')\n",
    "\n",
    "E = np.concatenate([U,V],axis=1)\n",
    "\n",
    "E_reduced =utils.SVD_k_dim(E,k=2)\n",
    "E_normalized_2d = E_reduced /np.linalg.norm(E_reduced, axis=1)[:, np.newaxis]\n",
    "\n",
    "sampleWords = 'януари октомври седмица година медии пазар стоки бизнес фирма бюджет петрол нефт'.split()\n",
    "\n",
    "utils.plot_embeddings(E_normalized_2d, word2ind, sampleWords, 'embeddings')"
   ]
  },
  {
   "cell_type": "code",
   "execution_count": null,
   "id": "23d751e0",
   "metadata": {},
   "outputs": [],
   "source": []
  }
 ],
 "metadata": {
  "kernelspec": {
   "display_name": "Python 3 (ipykernel)",
   "language": "python",
   "name": "python3"
  },
  "language_info": {
   "codemirror_mode": {
    "name": "ipython",
    "version": 3
   },
   "file_extension": ".py",
   "mimetype": "text/x-python",
   "name": "python",
   "nbconvert_exporter": "python",
   "pygments_lexer": "ipython3",
   "version": "3.7.11"
  }
 },
 "nbformat": 4,
 "nbformat_minor": 5
}
